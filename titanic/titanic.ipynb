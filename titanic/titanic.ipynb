{
 "cells": [
  {
   "cell_type": "code",
   "execution_count": 1,
   "id": "58b59e3d",
   "metadata": {
    "_cell_guid": "b1076dfc-b9ad-4769-8c92-a6c4dae69d19",
    "_uuid": "8f2839f25d086af736a60e9eeb907d3b93b6e0e5",
    "execution": {
     "iopub.execute_input": "2021-10-05T16:04:59.831781Z",
     "iopub.status.busy": "2021-10-05T16:04:59.830334Z",
     "iopub.status.idle": "2021-10-05T16:05:01.054845Z",
     "shell.execute_reply": "2021-10-05T16:05:01.055357Z",
     "shell.execute_reply.started": "2021-10-05T15:45:53.289772Z"
    },
    "papermill": {
     "duration": 1.295296,
     "end_time": "2021-10-05T16:05:01.055678",
     "exception": false,
     "start_time": "2021-10-05T16:04:59.760382",
     "status": "completed"
    },
    "tags": []
   },
   "outputs": [],
   "source": [
    "import numpy as np\n",
    "import pandas as pd\n",
    "import os\n",
    "import sklearn\n",
    "from matplotlib import pyplot as plt\n",
    "from sklearn.compose import ColumnTransformer\n",
    "from sklearn.impute import SimpleImputer\n",
    "from sklearn.preprocessing import StandardScaler, OneHotEncoder, OrdinalEncoder, KBinsDiscretizer\n",
    "from sklearn.pipeline import Pipeline\n",
    "from sklearn.base import BaseEstimator, TransformerMixin\n",
    "from sklearn.model_selection import cross_val_score, GridSearchCV, cross_val_predict\n",
    "from sklearn.metrics import confusion_matrix\n",
    "from sklearn.neural_network import MLPClassifier"
   ]
  },
  {
   "cell_type": "markdown",
   "id": "383fd2d9",
   "metadata": {
    "papermill": {
     "duration": 0.051201,
     "end_time": "2021-10-05T16:05:01.157366",
     "exception": false,
     "start_time": "2021-10-05T16:05:01.106165",
     "status": "completed"
    },
    "tags": []
   },
   "source": [
    "## Read the data"
   ]
  },
  {
   "cell_type": "code",
   "execution_count": 2,
   "id": "7ccea59c",
   "metadata": {
    "execution": {
     "iopub.execute_input": "2021-10-05T16:05:01.263788Z",
     "iopub.status.busy": "2021-10-05T16:05:01.263080Z",
     "iopub.status.idle": "2021-10-05T16:05:01.295880Z",
     "shell.execute_reply": "2021-10-05T16:05:01.295281Z",
     "shell.execute_reply.started": "2021-10-05T15:45:54.326362Z"
    },
    "papermill": {
     "duration": 0.088709,
     "end_time": "2021-10-05T16:05:01.296041",
     "exception": false,
     "start_time": "2021-10-05T16:05:01.207332",
     "status": "completed"
    },
    "tags": []
   },
   "outputs": [],
   "source": [
    "train_df = pd.read_csv('/kaggle/input/titanic/train.csv')\n",
    "test_df = pd.read_csv('/kaggle/input/titanic/test.csv')"
   ]
  },
  {
   "cell_type": "markdown",
   "id": "414eac4b",
   "metadata": {
    "execution": {
     "iopub.execute_input": "2021-10-03T14:55:32.216929Z",
     "iopub.status.busy": "2021-10-03T14:55:32.216444Z",
     "iopub.status.idle": "2021-10-03T14:55:32.220085Z",
     "shell.execute_reply": "2021-10-03T14:55:32.219275Z",
     "shell.execute_reply.started": "2021-10-03T14:55:32.216896Z"
    },
    "papermill": {
     "duration": 0.051454,
     "end_time": "2021-10-05T16:05:01.398680",
     "exception": false,
     "start_time": "2021-10-05T16:05:01.347226",
     "status": "completed"
    },
    "tags": []
   },
   "source": [
    "## Analyse the data"
   ]
  },
  {
   "cell_type": "code",
   "execution_count": 3,
   "id": "f9d78b47",
   "metadata": {
    "execution": {
     "iopub.execute_input": "2021-10-05T16:05:01.503217Z",
     "iopub.status.busy": "2021-10-05T16:05:01.502565Z",
     "iopub.status.idle": "2021-10-05T16:05:01.528706Z",
     "shell.execute_reply": "2021-10-05T16:05:01.529184Z",
     "shell.execute_reply.started": "2021-10-05T15:45:54.362701Z"
    },
    "papermill": {
     "duration": 0.080282,
     "end_time": "2021-10-05T16:05:01.529352",
     "exception": false,
     "start_time": "2021-10-05T16:05:01.449070",
     "status": "completed"
    },
    "tags": []
   },
   "outputs": [
    {
     "data": {
      "text/html": [
       "<div>\n",
       "<style scoped>\n",
       "    .dataframe tbody tr th:only-of-type {\n",
       "        vertical-align: middle;\n",
       "    }\n",
       "\n",
       "    .dataframe tbody tr th {\n",
       "        vertical-align: top;\n",
       "    }\n",
       "\n",
       "    .dataframe thead th {\n",
       "        text-align: right;\n",
       "    }\n",
       "</style>\n",
       "<table border=\"1\" class=\"dataframe\">\n",
       "  <thead>\n",
       "    <tr style=\"text-align: right;\">\n",
       "      <th></th>\n",
       "      <th>PassengerId</th>\n",
       "      <th>Survived</th>\n",
       "      <th>Pclass</th>\n",
       "      <th>Name</th>\n",
       "      <th>Sex</th>\n",
       "      <th>Age</th>\n",
       "      <th>SibSp</th>\n",
       "      <th>Parch</th>\n",
       "      <th>Ticket</th>\n",
       "      <th>Fare</th>\n",
       "      <th>Cabin</th>\n",
       "      <th>Embarked</th>\n",
       "    </tr>\n",
       "  </thead>\n",
       "  <tbody>\n",
       "    <tr>\n",
       "      <th>0</th>\n",
       "      <td>1</td>\n",
       "      <td>0</td>\n",
       "      <td>3</td>\n",
       "      <td>Braund, Mr. Owen Harris</td>\n",
       "      <td>male</td>\n",
       "      <td>22.0</td>\n",
       "      <td>1</td>\n",
       "      <td>0</td>\n",
       "      <td>A/5 21171</td>\n",
       "      <td>7.2500</td>\n",
       "      <td>NaN</td>\n",
       "      <td>S</td>\n",
       "    </tr>\n",
       "    <tr>\n",
       "      <th>1</th>\n",
       "      <td>2</td>\n",
       "      <td>1</td>\n",
       "      <td>1</td>\n",
       "      <td>Cumings, Mrs. John Bradley (Florence Briggs Th...</td>\n",
       "      <td>female</td>\n",
       "      <td>38.0</td>\n",
       "      <td>1</td>\n",
       "      <td>0</td>\n",
       "      <td>PC 17599</td>\n",
       "      <td>71.2833</td>\n",
       "      <td>C85</td>\n",
       "      <td>C</td>\n",
       "    </tr>\n",
       "    <tr>\n",
       "      <th>2</th>\n",
       "      <td>3</td>\n",
       "      <td>1</td>\n",
       "      <td>3</td>\n",
       "      <td>Heikkinen, Miss. Laina</td>\n",
       "      <td>female</td>\n",
       "      <td>26.0</td>\n",
       "      <td>0</td>\n",
       "      <td>0</td>\n",
       "      <td>STON/O2. 3101282</td>\n",
       "      <td>7.9250</td>\n",
       "      <td>NaN</td>\n",
       "      <td>S</td>\n",
       "    </tr>\n",
       "    <tr>\n",
       "      <th>3</th>\n",
       "      <td>4</td>\n",
       "      <td>1</td>\n",
       "      <td>1</td>\n",
       "      <td>Futrelle, Mrs. Jacques Heath (Lily May Peel)</td>\n",
       "      <td>female</td>\n",
       "      <td>35.0</td>\n",
       "      <td>1</td>\n",
       "      <td>0</td>\n",
       "      <td>113803</td>\n",
       "      <td>53.1000</td>\n",
       "      <td>C123</td>\n",
       "      <td>S</td>\n",
       "    </tr>\n",
       "    <tr>\n",
       "      <th>4</th>\n",
       "      <td>5</td>\n",
       "      <td>0</td>\n",
       "      <td>3</td>\n",
       "      <td>Allen, Mr. William Henry</td>\n",
       "      <td>male</td>\n",
       "      <td>35.0</td>\n",
       "      <td>0</td>\n",
       "      <td>0</td>\n",
       "      <td>373450</td>\n",
       "      <td>8.0500</td>\n",
       "      <td>NaN</td>\n",
       "      <td>S</td>\n",
       "    </tr>\n",
       "  </tbody>\n",
       "</table>\n",
       "</div>"
      ],
      "text/plain": [
       "   PassengerId  Survived  Pclass  \\\n",
       "0            1         0       3   \n",
       "1            2         1       1   \n",
       "2            3         1       3   \n",
       "3            4         1       1   \n",
       "4            5         0       3   \n",
       "\n",
       "                                                Name     Sex   Age  SibSp  \\\n",
       "0                            Braund, Mr. Owen Harris    male  22.0      1   \n",
       "1  Cumings, Mrs. John Bradley (Florence Briggs Th...  female  38.0      1   \n",
       "2                             Heikkinen, Miss. Laina  female  26.0      0   \n",
       "3       Futrelle, Mrs. Jacques Heath (Lily May Peel)  female  35.0      1   \n",
       "4                           Allen, Mr. William Henry    male  35.0      0   \n",
       "\n",
       "   Parch            Ticket     Fare Cabin Embarked  \n",
       "0      0         A/5 21171   7.2500   NaN        S  \n",
       "1      0          PC 17599  71.2833   C85        C  \n",
       "2      0  STON/O2. 3101282   7.9250   NaN        S  \n",
       "3      0            113803  53.1000  C123        S  \n",
       "4      0            373450   8.0500   NaN        S  "
      ]
     },
     "execution_count": 3,
     "metadata": {},
     "output_type": "execute_result"
    }
   ],
   "source": [
    "train_df.head()"
   ]
  },
  {
   "cell_type": "code",
   "execution_count": 4,
   "id": "f1740214",
   "metadata": {
    "execution": {
     "iopub.execute_input": "2021-10-05T16:05:01.671987Z",
     "iopub.status.busy": "2021-10-05T16:05:01.662695Z",
     "iopub.status.idle": "2021-10-05T16:05:01.686183Z",
     "shell.execute_reply": "2021-10-05T16:05:01.685517Z",
     "shell.execute_reply.started": "2021-10-05T15:45:54.387861Z"
    },
    "papermill": {
     "duration": 0.099413,
     "end_time": "2021-10-05T16:05:01.686326",
     "exception": false,
     "start_time": "2021-10-05T16:05:01.586913",
     "status": "completed"
    },
    "tags": []
   },
   "outputs": [
    {
     "name": "stdout",
     "output_type": "stream",
     "text": [
      "<class 'pandas.core.frame.DataFrame'>\n",
      "RangeIndex: 891 entries, 0 to 890\n",
      "Data columns (total 12 columns):\n",
      " #   Column       Non-Null Count  Dtype  \n",
      "---  ------       --------------  -----  \n",
      " 0   PassengerId  891 non-null    int64  \n",
      " 1   Survived     891 non-null    int64  \n",
      " 2   Pclass       891 non-null    int64  \n",
      " 3   Name         891 non-null    object \n",
      " 4   Sex          891 non-null    object \n",
      " 5   Age          714 non-null    float64\n",
      " 6   SibSp        891 non-null    int64  \n",
      " 7   Parch        891 non-null    int64  \n",
      " 8   Ticket       891 non-null    object \n",
      " 9   Fare         891 non-null    float64\n",
      " 10  Cabin        204 non-null    object \n",
      " 11  Embarked     889 non-null    object \n",
      "dtypes: float64(2), int64(5), object(5)\n",
      "memory usage: 83.7+ KB\n"
     ]
    }
   ],
   "source": [
    "train_df.info()"
   ]
  },
  {
   "cell_type": "code",
   "execution_count": 5,
   "id": "c91a3d2a",
   "metadata": {
    "execution": {
     "iopub.execute_input": "2021-10-05T16:05:01.795047Z",
     "iopub.status.busy": "2021-10-05T16:05:01.794322Z",
     "iopub.status.idle": "2021-10-05T16:05:01.827567Z",
     "shell.execute_reply": "2021-10-05T16:05:01.827019Z",
     "shell.execute_reply.started": "2021-10-05T15:45:54.411439Z"
    },
    "papermill": {
     "duration": 0.089929,
     "end_time": "2021-10-05T16:05:01.827738",
     "exception": false,
     "start_time": "2021-10-05T16:05:01.737809",
     "status": "completed"
    },
    "tags": []
   },
   "outputs": [
    {
     "data": {
      "text/html": [
       "<div>\n",
       "<style scoped>\n",
       "    .dataframe tbody tr th:only-of-type {\n",
       "        vertical-align: middle;\n",
       "    }\n",
       "\n",
       "    .dataframe tbody tr th {\n",
       "        vertical-align: top;\n",
       "    }\n",
       "\n",
       "    .dataframe thead th {\n",
       "        text-align: right;\n",
       "    }\n",
       "</style>\n",
       "<table border=\"1\" class=\"dataframe\">\n",
       "  <thead>\n",
       "    <tr style=\"text-align: right;\">\n",
       "      <th></th>\n",
       "      <th>PassengerId</th>\n",
       "      <th>Survived</th>\n",
       "      <th>Pclass</th>\n",
       "      <th>Age</th>\n",
       "      <th>SibSp</th>\n",
       "      <th>Parch</th>\n",
       "      <th>Fare</th>\n",
       "    </tr>\n",
       "  </thead>\n",
       "  <tbody>\n",
       "    <tr>\n",
       "      <th>count</th>\n",
       "      <td>891.000000</td>\n",
       "      <td>891.000000</td>\n",
       "      <td>891.000000</td>\n",
       "      <td>714.000000</td>\n",
       "      <td>891.000000</td>\n",
       "      <td>891.000000</td>\n",
       "      <td>891.000000</td>\n",
       "    </tr>\n",
       "    <tr>\n",
       "      <th>mean</th>\n",
       "      <td>446.000000</td>\n",
       "      <td>0.383838</td>\n",
       "      <td>2.308642</td>\n",
       "      <td>29.699118</td>\n",
       "      <td>0.523008</td>\n",
       "      <td>0.381594</td>\n",
       "      <td>32.204208</td>\n",
       "    </tr>\n",
       "    <tr>\n",
       "      <th>std</th>\n",
       "      <td>257.353842</td>\n",
       "      <td>0.486592</td>\n",
       "      <td>0.836071</td>\n",
       "      <td>14.526497</td>\n",
       "      <td>1.102743</td>\n",
       "      <td>0.806057</td>\n",
       "      <td>49.693429</td>\n",
       "    </tr>\n",
       "    <tr>\n",
       "      <th>min</th>\n",
       "      <td>1.000000</td>\n",
       "      <td>0.000000</td>\n",
       "      <td>1.000000</td>\n",
       "      <td>0.420000</td>\n",
       "      <td>0.000000</td>\n",
       "      <td>0.000000</td>\n",
       "      <td>0.000000</td>\n",
       "    </tr>\n",
       "    <tr>\n",
       "      <th>25%</th>\n",
       "      <td>223.500000</td>\n",
       "      <td>0.000000</td>\n",
       "      <td>2.000000</td>\n",
       "      <td>20.125000</td>\n",
       "      <td>0.000000</td>\n",
       "      <td>0.000000</td>\n",
       "      <td>7.910400</td>\n",
       "    </tr>\n",
       "    <tr>\n",
       "      <th>50%</th>\n",
       "      <td>446.000000</td>\n",
       "      <td>0.000000</td>\n",
       "      <td>3.000000</td>\n",
       "      <td>28.000000</td>\n",
       "      <td>0.000000</td>\n",
       "      <td>0.000000</td>\n",
       "      <td>14.454200</td>\n",
       "    </tr>\n",
       "    <tr>\n",
       "      <th>75%</th>\n",
       "      <td>668.500000</td>\n",
       "      <td>1.000000</td>\n",
       "      <td>3.000000</td>\n",
       "      <td>38.000000</td>\n",
       "      <td>1.000000</td>\n",
       "      <td>0.000000</td>\n",
       "      <td>31.000000</td>\n",
       "    </tr>\n",
       "    <tr>\n",
       "      <th>max</th>\n",
       "      <td>891.000000</td>\n",
       "      <td>1.000000</td>\n",
       "      <td>3.000000</td>\n",
       "      <td>80.000000</td>\n",
       "      <td>8.000000</td>\n",
       "      <td>6.000000</td>\n",
       "      <td>512.329200</td>\n",
       "    </tr>\n",
       "  </tbody>\n",
       "</table>\n",
       "</div>"
      ],
      "text/plain": [
       "       PassengerId    Survived      Pclass         Age       SibSp  \\\n",
       "count   891.000000  891.000000  891.000000  714.000000  891.000000   \n",
       "mean    446.000000    0.383838    2.308642   29.699118    0.523008   \n",
       "std     257.353842    0.486592    0.836071   14.526497    1.102743   \n",
       "min       1.000000    0.000000    1.000000    0.420000    0.000000   \n",
       "25%     223.500000    0.000000    2.000000   20.125000    0.000000   \n",
       "50%     446.000000    0.000000    3.000000   28.000000    0.000000   \n",
       "75%     668.500000    1.000000    3.000000   38.000000    1.000000   \n",
       "max     891.000000    1.000000    3.000000   80.000000    8.000000   \n",
       "\n",
       "            Parch        Fare  \n",
       "count  891.000000  891.000000  \n",
       "mean     0.381594   32.204208  \n",
       "std      0.806057   49.693429  \n",
       "min      0.000000    0.000000  \n",
       "25%      0.000000    7.910400  \n",
       "50%      0.000000   14.454200  \n",
       "75%      0.000000   31.000000  \n",
       "max      6.000000  512.329200  "
      ]
     },
     "execution_count": 5,
     "metadata": {},
     "output_type": "execute_result"
    }
   ],
   "source": [
    "train_df.describe()"
   ]
  },
  {
   "cell_type": "code",
   "execution_count": 6,
   "id": "2689befa",
   "metadata": {
    "execution": {
     "iopub.execute_input": "2021-10-05T16:05:01.937393Z",
     "iopub.status.busy": "2021-10-05T16:05:01.936679Z",
     "iopub.status.idle": "2021-10-05T16:05:03.759445Z",
     "shell.execute_reply": "2021-10-05T16:05:03.759937Z",
     "shell.execute_reply.started": "2021-10-05T15:45:54.444231Z"
    },
    "papermill": {
     "duration": 1.88017,
     "end_time": "2021-10-05T16:05:03.760133",
     "exception": false,
     "start_time": "2021-10-05T16:05:01.879963",
     "status": "completed"
    },
    "tags": []
   },
   "outputs": [
    {
     "data": {
      "text/plain": [
       "array([[<AxesSubplot:title={'center':'PassengerId'}>,\n",
       "        <AxesSubplot:title={'center':'Survived'}>,\n",
       "        <AxesSubplot:title={'center':'Pclass'}>],\n",
       "       [<AxesSubplot:title={'center':'Age'}>,\n",
       "        <AxesSubplot:title={'center':'SibSp'}>,\n",
       "        <AxesSubplot:title={'center':'Parch'}>],\n",
       "       [<AxesSubplot:title={'center':'Fare'}>, <AxesSubplot:>,\n",
       "        <AxesSubplot:>]], dtype=object)"
      ]
     },
     "execution_count": 6,
     "metadata": {},
     "output_type": "execute_result"
    },
    {
     "data": {
      "image/png": "[encoded data removed]",
      "text/plain": [
       "<Figure size 1440x1080 with 9 Axes>"
      ]
     },
     "metadata": {
      "needs_background": "light"
     },
     "output_type": "display_data"
    }
   ],
   "source": [
    "train_df.hist(bins=20, figsize=(20,15))"
   ]
  },
  {
   "cell_type": "markdown",
   "id": "65a53dfd",
   "metadata": {
    "papermill": {
     "duration": 0.053604,
     "end_time": "2021-10-05T16:05:03.868294",
     "exception": false,
     "start_time": "2021-10-05T16:05:03.814690",
     "status": "completed"
    },
    "tags": []
   },
   "source": [
    "#### Numerical attributes"
   ]
  },
  {
   "cell_type": "markdown",
   "id": "b51ba3c3",
   "metadata": {
    "papermill": {
     "duration": 0.054301,
     "end_time": "2021-10-05T16:05:03.976470",
     "exception": false,
     "start_time": "2021-10-05T16:05:03.922169",
     "status": "completed"
    },
    "tags": []
   },
   "source": [
    "**Pclass**"
   ]
  },
  {
   "cell_type": "code",
   "execution_count": 7,
   "id": "93e31159",
   "metadata": {
    "execution": {
     "iopub.execute_input": "2021-10-05T16:05:04.099973Z",
     "iopub.status.busy": "2021-10-05T16:05:04.099002Z",
     "iopub.status.idle": "2021-10-05T16:05:04.102550Z",
     "shell.execute_reply": "2021-10-05T16:05:04.103124Z",
     "shell.execute_reply.started": "2021-10-05T15:45:56.151780Z"
    },
    "papermill": {
     "duration": 0.07237,
     "end_time": "2021-10-05T16:05:04.103305",
     "exception": false,
     "start_time": "2021-10-05T16:05:04.030935",
     "status": "completed"
    },
    "tags": []
   },
   "outputs": [
    {
     "data": {
      "text/html": [
       "<div>\n",
       "<style scoped>\n",
       "    .dataframe tbody tr th:only-of-type {\n",
       "        vertical-align: middle;\n",
       "    }\n",
       "\n",
       "    .dataframe tbody tr th {\n",
       "        vertical-align: top;\n",
       "    }\n",
       "\n",
       "    .dataframe thead th {\n",
       "        text-align: right;\n",
       "    }\n",
       "</style>\n",
       "<table border=\"1\" class=\"dataframe\">\n",
       "  <thead>\n",
       "    <tr style=\"text-align: right;\">\n",
       "      <th></th>\n",
       "      <th>Survived</th>\n",
       "    </tr>\n",
       "    <tr>\n",
       "      <th>Pclass</th>\n",
       "      <th></th>\n",
       "    </tr>\n",
       "  </thead>\n",
       "  <tbody>\n",
       "    <tr>\n",
       "      <th>1</th>\n",
       "      <td>0.629630</td>\n",
       "    </tr>\n",
       "    <tr>\n",
       "      <th>2</th>\n",
       "      <td>0.472826</td>\n",
       "    </tr>\n",
       "    <tr>\n",
       "      <th>3</th>\n",
       "      <td>0.242363</td>\n",
       "    </tr>\n",
       "  </tbody>\n",
       "</table>\n",
       "</div>"
      ],
      "text/plain": [
       "        Survived\n",
       "Pclass          \n",
       "1       0.629630\n",
       "2       0.472826\n",
       "3       0.242363"
      ]
     },
     "execution_count": 7,
     "metadata": {},
     "output_type": "execute_result"
    }
   ],
   "source": [
    "train_df[[\"Pclass\", \"Survived\"]].groupby([\"Pclass\"]).mean()"
   ]
  },
  {
   "cell_type": "markdown",
   "id": "74b92efe",
   "metadata": {
    "execution": {
     "iopub.execute_input": "2021-10-05T08:59:54.61045Z",
     "iopub.status.busy": "2021-10-05T08:59:54.610132Z",
     "iopub.status.idle": "2021-10-05T08:59:54.616809Z",
     "shell.execute_reply": "2021-10-05T08:59:54.61563Z",
     "shell.execute_reply.started": "2021-10-05T08:59:54.610418Z"
    },
    "papermill": {
     "duration": 0.054006,
     "end_time": "2021-10-05T16:05:04.211875",
     "exception": false,
     "start_time": "2021-10-05T16:05:04.157869",
     "status": "completed"
    },
    "tags": []
   },
   "source": [
    "Passengers from first class were more likely to survive, so it is okay to leave this attribute as it is. "
   ]
  },
  {
   "cell_type": "markdown",
   "id": "58f5a521",
   "metadata": {
    "papermill": {
     "duration": 0.055439,
     "end_time": "2021-10-05T16:05:04.321977",
     "exception": false,
     "start_time": "2021-10-05T16:05:04.266538",
     "status": "completed"
    },
    "tags": []
   },
   "source": [
    "**Age**"
   ]
  },
  {
   "cell_type": "markdown",
   "id": "72f9dbe8",
   "metadata": {
    "papermill": {
     "duration": 0.054049,
     "end_time": "2021-10-05T16:05:04.430568",
     "exception": false,
     "start_time": "2021-10-05T16:05:04.376519",
     "status": "completed"
    },
    "tags": []
   },
   "source": [
    "Age should be divided into buckets"
   ]
  },
  {
   "cell_type": "code",
   "execution_count": 8,
   "id": "edec2136",
   "metadata": {
    "execution": {
     "iopub.execute_input": "2021-10-05T16:05:04.549079Z",
     "iopub.status.busy": "2021-10-05T16:05:04.548359Z",
     "iopub.status.idle": "2021-10-05T16:05:04.566313Z",
     "shell.execute_reply": "2021-10-05T16:05:04.565768Z",
     "shell.execute_reply.started": "2021-10-05T15:45:56.173524Z"
    },
    "papermill": {
     "duration": 0.081586,
     "end_time": "2021-10-05T16:05:04.566457",
     "exception": false,
     "start_time": "2021-10-05T16:05:04.484871",
     "status": "completed"
    },
    "tags": []
   },
   "outputs": [
    {
     "data": {
      "text/plain": [
       "(13.683, 26.947]    248\n",
       "(26.947, 40.21]     245\n",
       "(40.21, 53.473]     100\n",
       "(0.34, 13.683]       71\n",
       "(53.473, 66.737]     43\n",
       "(66.737, 80.0]        7\n",
       "Name: Age, dtype: int64"
      ]
     },
     "execution_count": 8,
     "metadata": {},
     "output_type": "execute_result"
    }
   ],
   "source": [
    "pd.cut(train_df['Age'], bins=6).value_counts()"
   ]
  },
  {
   "cell_type": "markdown",
   "id": "e6db6a60",
   "metadata": {
    "papermill": {
     "duration": 0.054179,
     "end_time": "2021-10-05T16:05:04.674921",
     "exception": false,
     "start_time": "2021-10-05T16:05:04.620742",
     "status": "completed"
    },
    "tags": []
   },
   "source": [
    "**SibSp and Parch**"
   ]
  },
  {
   "cell_type": "markdown",
   "id": "b9af4765",
   "metadata": {
    "papermill": {
     "duration": 0.055359,
     "end_time": "2021-10-05T16:05:04.784536",
     "exception": false,
     "start_time": "2021-10-05T16:05:04.729177",
     "status": "completed"
    },
    "tags": []
   },
   "source": [
    "I will make one attribute from sum of Patch and SibSp"
   ]
  },
  {
   "cell_type": "code",
   "execution_count": 9,
   "id": "7a32f4a9",
   "metadata": {
    "execution": {
     "iopub.execute_input": "2021-10-05T16:05:04.901310Z",
     "iopub.status.busy": "2021-10-05T16:05:04.900645Z",
     "iopub.status.idle": "2021-10-05T16:05:04.907168Z",
     "shell.execute_reply": "2021-10-05T16:05:04.907733Z",
     "shell.execute_reply.started": "2021-10-05T15:46:01.854464Z"
    },
    "papermill": {
     "duration": 0.066717,
     "end_time": "2021-10-05T16:05:04.907915",
     "exception": false,
     "start_time": "2021-10-05T16:05:04.841198",
     "status": "completed"
    },
    "tags": []
   },
   "outputs": [],
   "source": [
    "train_df[\"RelativesOnboard\"] = train_df[\"SibSp\"] + train_df[\"Parch\"]\n",
    "test_df[\"RelativesOnboard\"] = test_df[\"SibSp\"] + test_df[\"Parch\"]"
   ]
  },
  {
   "cell_type": "markdown",
   "id": "26486a9f",
   "metadata": {
    "papermill": {
     "duration": 0.055382,
     "end_time": "2021-10-05T16:05:05.018034",
     "exception": false,
     "start_time": "2021-10-05T16:05:04.962652",
     "status": "completed"
    },
    "tags": []
   },
   "source": [
    "**Fare**"
   ]
  },
  {
   "cell_type": "markdown",
   "id": "a9f4a63a",
   "metadata": {
    "papermill": {
     "duration": 0.055499,
     "end_time": "2021-10-05T16:05:05.129193",
     "exception": false,
     "start_time": "2021-10-05T16:05:05.073694",
     "status": "completed"
    },
    "tags": []
   },
   "source": [
    "Fare will be divided into buckets as well"
   ]
  },
  {
   "cell_type": "code",
   "execution_count": 10,
   "id": "edc28fb2",
   "metadata": {
    "execution": {
     "iopub.execute_input": "2021-10-05T16:05:05.251762Z",
     "iopub.status.busy": "2021-10-05T16:05:05.240509Z",
     "iopub.status.idle": "2021-10-05T16:05:05.254520Z",
     "shell.execute_reply": "2021-10-05T16:05:05.255069Z",
     "shell.execute_reply.started": "2021-10-05T15:46:02.601640Z"
    },
    "papermill": {
     "duration": 0.071755,
     "end_time": "2021-10-05T16:05:05.255246",
     "exception": false,
     "start_time": "2021-10-05T16:05:05.183491",
     "status": "completed"
    },
    "tags": []
   },
   "outputs": [
    {
     "data": {
      "text/plain": [
       "(-0.512, 25.616]      562\n",
       "(25.616, 51.233]      170\n",
       "(51.233, 76.849]       67\n",
       "(76.849, 102.466]      39\n",
       "(128.082, 153.699]     16\n",
       "(102.466, 128.082]     15\n",
       "(204.932, 230.548]      9\n",
       "(256.165, 281.781]      6\n",
       "(486.713, 512.329]      3\n",
       "(230.548, 256.165]      2\n",
       "(153.699, 179.315]      2\n",
       "(179.315, 204.932]      0\n",
       "(281.781, 307.398]      0\n",
       "(307.398, 333.014]      0\n",
       "(333.014, 358.63]       0\n",
       "(358.63, 384.247]       0\n",
       "(384.247, 409.863]      0\n",
       "(409.863, 435.48]       0\n",
       "(435.48, 461.096]       0\n",
       "(461.096, 486.713]      0\n",
       "Name: Fare, dtype: int64"
      ]
     },
     "execution_count": 10,
     "metadata": {},
     "output_type": "execute_result"
    }
   ],
   "source": [
    "pd.cut(train_df['Fare'], bins=20).value_counts()"
   ]
  },
  {
   "cell_type": "markdown",
   "id": "9d415c44",
   "metadata": {
    "papermill": {
     "duration": 0.054885,
     "end_time": "2021-10-05T16:05:05.365240",
     "exception": false,
     "start_time": "2021-10-05T16:05:05.310355",
     "status": "completed"
    },
    "tags": []
   },
   "source": [
    "#### Categorical attributes"
   ]
  },
  {
   "cell_type": "markdown",
   "id": "ad455f0b",
   "metadata": {
    "papermill": {
     "duration": 0.055309,
     "end_time": "2021-10-05T16:05:05.476538",
     "exception": false,
     "start_time": "2021-10-05T16:05:05.421229",
     "status": "completed"
    },
    "tags": []
   },
   "source": [
    "**Name** <br>\n",
    "In my opinion this attribute will not be informative to the model, so leave it at the moment"
   ]
  },
  {
   "cell_type": "code",
   "execution_count": 11,
   "id": "23baeae6",
   "metadata": {
    "execution": {
     "iopub.execute_input": "2021-10-05T16:05:05.592827Z",
     "iopub.status.busy": "2021-10-05T16:05:05.592095Z",
     "iopub.status.idle": "2021-10-05T16:05:05.601679Z",
     "shell.execute_reply": "2021-10-05T16:05:05.601110Z",
     "shell.execute_reply.started": "2021-10-05T15:46:04.730593Z"
    },
    "papermill": {
     "duration": 0.068548,
     "end_time": "2021-10-05T16:05:05.601845",
     "exception": false,
     "start_time": "2021-10-05T16:05:05.533297",
     "status": "completed"
    },
    "tags": []
   },
   "outputs": [
    {
     "data": {
      "text/plain": [
       "Braund, Mr. Owen Harris                     1\n",
       "Boulos, Mr. Hanna                           1\n",
       "Frolicher-Stehli, Mr. Maxmillian            1\n",
       "Gilinski, Mr. Eliezer                       1\n",
       "Murdlin, Mr. Joseph                         1\n",
       "                                           ..\n",
       "Kelly, Miss. Anna Katherine \"Annie Kate\"    1\n",
       "McCoy, Mr. Bernard                          1\n",
       "Johnson, Mr. William Cahoone Jr             1\n",
       "Keane, Miss. Nora A                         1\n",
       "Dooley, Mr. Patrick                         1\n",
       "Name: Name, Length: 891, dtype: int64"
      ]
     },
     "execution_count": 11,
     "metadata": {},
     "output_type": "execute_result"
    }
   ],
   "source": [
    "train_df['Name'].value_counts()"
   ]
  },
  {
   "cell_type": "markdown",
   "id": "35065932",
   "metadata": {
    "papermill": {
     "duration": 0.055653,
     "end_time": "2021-10-05T16:05:05.713366",
     "exception": false,
     "start_time": "2021-10-05T16:05:05.657713",
     "status": "completed"
    },
    "tags": []
   },
   "source": [
    "**Sex**<br>\n",
    "Change it to binary value"
   ]
  },
  {
   "cell_type": "code",
   "execution_count": 12,
   "id": "6dc67b09",
   "metadata": {
    "execution": {
     "iopub.execute_input": "2021-10-05T16:05:05.837737Z",
     "iopub.status.busy": "2021-10-05T16:05:05.837062Z",
     "iopub.status.idle": "2021-10-05T16:05:05.840851Z",
     "shell.execute_reply": "2021-10-05T16:05:05.840209Z",
     "shell.execute_reply.started": "2021-10-05T15:46:04.897162Z"
    },
    "papermill": {
     "duration": 0.067579,
     "end_time": "2021-10-05T16:05:05.841001",
     "exception": false,
     "start_time": "2021-10-05T16:05:05.773422",
     "status": "completed"
    },
    "tags": []
   },
   "outputs": [
    {
     "data": {
      "text/plain": [
       "male      577\n",
       "female    314\n",
       "Name: Sex, dtype: int64"
      ]
     },
     "execution_count": 12,
     "metadata": {},
     "output_type": "execute_result"
    }
   ],
   "source": [
    "train_df['Sex'].value_counts()"
   ]
  },
  {
   "cell_type": "markdown",
   "id": "7d1a0aa1",
   "metadata": {
    "papermill": {
     "duration": 0.056519,
     "end_time": "2021-10-05T16:05:05.955497",
     "exception": false,
     "start_time": "2021-10-05T16:05:05.898978",
     "status": "completed"
    },
    "tags": []
   },
   "source": [
    "**Ticket**<br>\n",
    "Leave at the moment"
   ]
  },
  {
   "cell_type": "code",
   "execution_count": 13,
   "id": "02bd4016",
   "metadata": {
    "execution": {
     "iopub.execute_input": "2021-10-05T16:05:06.072769Z",
     "iopub.status.busy": "2021-10-05T16:05:06.070003Z",
     "iopub.status.idle": "2021-10-05T16:05:06.079717Z",
     "shell.execute_reply": "2021-10-05T16:05:06.079033Z",
     "shell.execute_reply.started": "2021-10-05T15:46:05.054602Z"
    },
    "papermill": {
     "duration": 0.068702,
     "end_time": "2021-10-05T16:05:06.079863",
     "exception": false,
     "start_time": "2021-10-05T16:05:06.011161",
     "status": "completed"
    },
    "tags": []
   },
   "outputs": [
    {
     "data": {
      "text/plain": [
       "347082      7\n",
       "CA. 2343    7\n",
       "1601        7\n",
       "3101295     6\n",
       "CA 2144     6\n",
       "           ..\n",
       "9234        1\n",
       "19988       1\n",
       "2693        1\n",
       "PC 17612    1\n",
       "370376      1\n",
       "Name: Ticket, Length: 681, dtype: int64"
      ]
     },
     "execution_count": 13,
     "metadata": {},
     "output_type": "execute_result"
    }
   ],
   "source": [
    "train_df['Ticket'].value_counts()"
   ]
  },
  {
   "cell_type": "code",
   "execution_count": 14,
   "id": "66e58b89",
   "metadata": {
    "execution": {
     "iopub.execute_input": "2021-10-05T16:05:06.199858Z",
     "iopub.status.busy": "2021-10-05T16:05:06.199168Z",
     "iopub.status.idle": "2021-10-05T16:05:06.202721Z",
     "shell.execute_reply": "2021-10-05T16:05:06.203157Z",
     "shell.execute_reply.started": "2021-10-05T15:46:05.387782Z"
    },
    "papermill": {
     "duration": 0.06738,
     "end_time": "2021-10-05T16:05:06.203326",
     "exception": false,
     "start_time": "2021-10-05T16:05:06.135946",
     "status": "completed"
    },
    "tags": []
   },
   "outputs": [
    {
     "data": {
      "text/plain": [
       "B96 B98        4\n",
       "G6             4\n",
       "C23 C25 C27    4\n",
       "C22 C26        3\n",
       "F33            3\n",
       "              ..\n",
       "E34            1\n",
       "C7             1\n",
       "C54            1\n",
       "E36            1\n",
       "C148           1\n",
       "Name: Cabin, Length: 147, dtype: int64"
      ]
     },
     "execution_count": 14,
     "metadata": {},
     "output_type": "execute_result"
    }
   ],
   "source": [
    "train_df['Cabin'].value_counts()"
   ]
  },
  {
   "cell_type": "code",
   "execution_count": 15,
   "id": "2f17a522",
   "metadata": {
    "execution": {
     "iopub.execute_input": "2021-10-05T16:05:06.322981Z",
     "iopub.status.busy": "2021-10-05T16:05:06.322322Z",
     "iopub.status.idle": "2021-10-05T16:05:06.326185Z",
     "shell.execute_reply": "2021-10-05T16:05:06.325559Z",
     "shell.execute_reply.started": "2021-10-05T15:46:05.798212Z"
    },
    "papermill": {
     "duration": 0.066649,
     "end_time": "2021-10-05T16:05:06.326327",
     "exception": false,
     "start_time": "2021-10-05T16:05:06.259678",
     "status": "completed"
    },
    "tags": []
   },
   "outputs": [
    {
     "data": {
      "text/plain": [
       "S    644\n",
       "C    168\n",
       "Q     77\n",
       "Name: Embarked, dtype: int64"
      ]
     },
     "execution_count": 15,
     "metadata": {},
     "output_type": "execute_result"
    }
   ],
   "source": [
    "train_df['Embarked'].value_counts()"
   ]
  },
  {
   "cell_type": "markdown",
   "id": "30a8a08b",
   "metadata": {
    "papermill": {
     "duration": 0.056101,
     "end_time": "2021-10-05T16:05:06.438729",
     "exception": false,
     "start_time": "2021-10-05T16:05:06.382628",
     "status": "completed"
    },
    "tags": []
   },
   "source": [
    "### Look for correlations"
   ]
  },
  {
   "cell_type": "code",
   "execution_count": 16,
   "id": "2fa56cb1",
   "metadata": {
    "execution": {
     "iopub.execute_input": "2021-10-05T16:05:06.555326Z",
     "iopub.status.busy": "2021-10-05T16:05:06.554707Z",
     "iopub.status.idle": "2021-10-05T16:05:06.565514Z",
     "shell.execute_reply": "2021-10-05T16:05:06.565020Z",
     "shell.execute_reply.started": "2021-10-05T15:46:10.719051Z"
    },
    "papermill": {
     "duration": 0.070154,
     "end_time": "2021-10-05T16:05:06.565671",
     "exception": false,
     "start_time": "2021-10-05T16:05:06.495517",
     "status": "completed"
    },
    "tags": []
   },
   "outputs": [
    {
     "data": {
      "text/plain": [
       "Survived            1.000000\n",
       "Fare                0.257307\n",
       "Parch               0.081629\n",
       "RelativesOnboard    0.016639\n",
       "PassengerId        -0.005007\n",
       "SibSp              -0.035322\n",
       "Age                -0.077221\n",
       "Pclass             -0.338481\n",
       "Name: Survived, dtype: float64"
      ]
     },
     "execution_count": 16,
     "metadata": {},
     "output_type": "execute_result"
    }
   ],
   "source": [
    "corr_matrix = train_df.corr()\n",
    "corr_matrix[\"Survived\"].sort_values(ascending=False)"
   ]
  },
  {
   "cell_type": "markdown",
   "id": "952785a9",
   "metadata": {
    "papermill": {
     "duration": 0.056378,
     "end_time": "2021-10-05T16:05:06.678571",
     "exception": false,
     "start_time": "2021-10-05T16:05:06.622193",
     "status": "completed"
    },
    "tags": []
   },
   "source": [
    "## Make a pipeline"
   ]
  },
  {
   "cell_type": "code",
   "execution_count": 17,
   "id": "9a1d4aac",
   "metadata": {
    "execution": {
     "iopub.execute_input": "2021-10-05T16:05:06.802459Z",
     "iopub.status.busy": "2021-10-05T16:05:06.801688Z",
     "iopub.status.idle": "2021-10-05T16:05:06.804606Z",
     "shell.execute_reply": "2021-10-05T16:05:06.804083Z",
     "shell.execute_reply.started": "2021-10-05T15:46:25.827547Z"
    },
    "papermill": {
     "duration": 0.069559,
     "end_time": "2021-10-05T16:05:06.804756",
     "exception": false,
     "start_time": "2021-10-05T16:05:06.735197",
     "status": "completed"
    },
    "tags": []
   },
   "outputs": [],
   "source": [
    "class FlatDiscretizer(TransformerMixin, BaseEstimator):\n",
    "    def __init__(self, attr, n_bins=5, encode='onehot'):\n",
    "        self.attr = attr\n",
    "        self.discretizer = KBinsDiscretizer(n_bins=n_bins, encode=encode)\n",
    "        \n",
    "    def fit(self, X, y=None):\n",
    "        self.discretizer.fit(X[self.attr].to_numpy().reshape(-1,1))\n",
    "        return self\n",
    "    \n",
    "    def transform(self, X, y=None):\n",
    "        new_X = self.discretizer.transform(X[self.attr].to_numpy().reshape(-1,1))\n",
    "        return new_X.squeeze()"
   ]
  },
  {
   "cell_type": "code",
   "execution_count": 18,
   "id": "94d2f5bb",
   "metadata": {
    "execution": {
     "iopub.execute_input": "2021-10-05T16:05:06.927187Z",
     "iopub.status.busy": "2021-10-05T16:05:06.926453Z",
     "iopub.status.idle": "2021-10-05T16:05:06.929342Z",
     "shell.execute_reply": "2021-10-05T16:05:06.928734Z",
     "shell.execute_reply.started": "2021-10-05T16:04:16.344763Z"
    },
    "papermill": {
     "duration": 0.064777,
     "end_time": "2021-10-05T16:05:06.929489",
     "exception": false,
     "start_time": "2021-10-05T16:05:06.864712",
     "status": "completed"
    },
    "tags": []
   },
   "outputs": [],
   "source": [
    "num_attribs = ['Age', 'Fare', 'Pclass']\n",
    "cat_attribs = ['Sex', 'Embarked']"
   ]
  },
  {
   "cell_type": "code",
   "execution_count": 19,
   "id": "4c3aa3f5",
   "metadata": {
    "execution": {
     "iopub.execute_input": "2021-10-05T16:05:07.055268Z",
     "iopub.status.busy": "2021-10-05T16:05:07.054563Z",
     "iopub.status.idle": "2021-10-05T16:05:07.057231Z",
     "shell.execute_reply": "2021-10-05T16:05:07.057694Z",
     "shell.execute_reply.started": "2021-10-05T16:04:16.499529Z"
    },
    "papermill": {
     "duration": 0.0687,
     "end_time": "2021-10-05T16:05:07.057876",
     "exception": false,
     "start_time": "2021-10-05T16:05:06.989176",
     "status": "completed"
    },
    "tags": []
   },
   "outputs": [],
   "source": [
    "age_pipeline = Pipeline([\n",
    "    (\"age_imputer\", SimpleImputer(strategy=\"median\")),\n",
    "    (\"age_discretizer\", FlatDiscretizer(attr=\"Age\", n_bins=6, encode='ordinal'))\n",
    "])"
   ]
  },
  {
   "cell_type": "code",
   "execution_count": 20,
   "id": "8b984570",
   "metadata": {
    "execution": {
     "iopub.execute_input": "2021-10-05T16:05:07.180133Z",
     "iopub.status.busy": "2021-10-05T16:05:07.179454Z",
     "iopub.status.idle": "2021-10-05T16:05:07.181692Z",
     "shell.execute_reply": "2021-10-05T16:05:07.181074Z",
     "shell.execute_reply.started": "2021-10-05T16:04:16.676644Z"
    },
    "papermill": {
     "duration": 0.064208,
     "end_time": "2021-10-05T16:05:07.181832",
     "exception": false,
     "start_time": "2021-10-05T16:05:07.117624",
     "status": "completed"
    },
    "tags": []
   },
   "outputs": [],
   "source": [
    "fare_pipeline = Pipeline([\n",
    "    (\"fare_discretizer\", FlatDiscretizer(attr=\"Fare\", n_bins=20, encode='ordinal'))\n",
    "])"
   ]
  },
  {
   "cell_type": "code",
   "execution_count": 21,
   "id": "7ec8fab8",
   "metadata": {
    "execution": {
     "iopub.execute_input": "2021-10-05T16:05:07.303149Z",
     "iopub.status.busy": "2021-10-05T16:05:07.302398Z",
     "iopub.status.idle": "2021-10-05T16:05:07.305144Z",
     "shell.execute_reply": "2021-10-05T16:05:07.304569Z",
     "shell.execute_reply.started": "2021-10-05T16:04:16.836018Z"
    },
    "papermill": {
     "duration": 0.064527,
     "end_time": "2021-10-05T16:05:07.305289",
     "exception": false,
     "start_time": "2021-10-05T16:05:07.240762",
     "status": "completed"
    },
    "tags": []
   },
   "outputs": [],
   "source": [
    "num_pipeline = Pipeline([\n",
    "    (\"num_imputer\", SimpleImputer(strategy=\"median\")),\n",
    "    (\"num_scaler\",  StandardScaler())\n",
    "])"
   ]
  },
  {
   "cell_type": "code",
   "execution_count": 22,
   "id": "106c7647",
   "metadata": {
    "execution": {
     "iopub.execute_input": "2021-10-05T16:05:07.427090Z",
     "iopub.status.busy": "2021-10-05T16:05:07.426347Z",
     "iopub.status.idle": "2021-10-05T16:05:07.429392Z",
     "shell.execute_reply": "2021-10-05T16:05:07.428864Z",
     "shell.execute_reply.started": "2021-10-05T16:04:17.017638Z"
    },
    "papermill": {
     "duration": 0.066234,
     "end_time": "2021-10-05T16:05:07.429551",
     "exception": false,
     "start_time": "2021-10-05T16:05:07.363317",
     "status": "completed"
    },
    "tags": []
   },
   "outputs": [],
   "source": [
    "class MostFrequentImputer(BaseEstimator, TransformerMixin):\n",
    "    def fit(self, X, y=None):\n",
    "        self.most_frequent_ = pd.Series([X[c].value_counts().index[0] for c in X],\n",
    "                                        index=X.columns)\n",
    "        return self\n",
    "    \n",
    "    def transform(self, X, y=None):\n",
    "        return X.fillna(self.most_frequent_)"
   ]
  },
  {
   "cell_type": "code",
   "execution_count": 23,
   "id": "abd3f7cd",
   "metadata": {
    "execution": {
     "iopub.execute_input": "2021-10-05T16:05:07.549513Z",
     "iopub.status.busy": "2021-10-05T16:05:07.547147Z",
     "iopub.status.idle": "2021-10-05T16:05:07.552628Z",
     "shell.execute_reply": "2021-10-05T16:05:07.552009Z",
     "shell.execute_reply.started": "2021-10-05T16:04:17.209224Z"
    },
    "papermill": {
     "duration": 0.065555,
     "end_time": "2021-10-05T16:05:07.552777",
     "exception": false,
     "start_time": "2021-10-05T16:05:07.487222",
     "status": "completed"
    },
    "tags": []
   },
   "outputs": [],
   "source": [
    "cat_pipeline = Pipeline([\n",
    "    (\"cat_imputer\", MostFrequentImputer()),\n",
    "    (\"cat_encoder\", OneHotEncoder())\n",
    "])"
   ]
  },
  {
   "cell_type": "code",
   "execution_count": 24,
   "id": "fcec7ce5",
   "metadata": {
    "execution": {
     "iopub.execute_input": "2021-10-05T16:05:07.671636Z",
     "iopub.status.busy": "2021-10-05T16:05:07.670941Z",
     "iopub.status.idle": "2021-10-05T16:05:07.673681Z",
     "shell.execute_reply": "2021-10-05T16:05:07.673181Z",
     "shell.execute_reply.started": "2021-10-05T16:04:17.386077Z"
    },
    "papermill": {
     "duration": 0.064198,
     "end_time": "2021-10-05T16:05:07.673826",
     "exception": false,
     "start_time": "2021-10-05T16:05:07.609628",
     "status": "completed"
    },
    "tags": []
   },
   "outputs": [],
   "source": [
    "full_pipeline = ColumnTransformer([\n",
    "    (\"num\", num_pipeline, num_attribs),\n",
    "    (\"cat\", cat_pipeline, cat_attribs)\n",
    "], )"
   ]
  },
  {
   "cell_type": "code",
   "execution_count": 25,
   "id": "b7ea4478",
   "metadata": {
    "execution": {
     "iopub.execute_input": "2021-10-05T16:05:07.817978Z",
     "iopub.status.busy": "2021-10-05T16:05:07.816917Z",
     "iopub.status.idle": "2021-10-05T16:05:07.820739Z",
     "shell.execute_reply": "2021-10-05T16:05:07.821217Z",
     "shell.execute_reply.started": "2021-10-05T16:04:17.576295Z"
    },
    "papermill": {
     "duration": 0.088914,
     "end_time": "2021-10-05T16:05:07.821386",
     "exception": false,
     "start_time": "2021-10-05T16:05:07.732472",
     "status": "completed"
    },
    "tags": []
   },
   "outputs": [
    {
     "data": {
      "text/html": [
       "<div>\n",
       "<style scoped>\n",
       "    .dataframe tbody tr th:only-of-type {\n",
       "        vertical-align: middle;\n",
       "    }\n",
       "\n",
       "    .dataframe tbody tr th {\n",
       "        vertical-align: top;\n",
       "    }\n",
       "\n",
       "    .dataframe thead th {\n",
       "        text-align: right;\n",
       "    }\n",
       "</style>\n",
       "<table border=\"1\" class=\"dataframe\">\n",
       "  <thead>\n",
       "    <tr style=\"text-align: right;\">\n",
       "      <th></th>\n",
       "      <th>PassengerId</th>\n",
       "      <th>Survived</th>\n",
       "      <th>Pclass</th>\n",
       "      <th>Name</th>\n",
       "      <th>Sex</th>\n",
       "      <th>Age</th>\n",
       "      <th>SibSp</th>\n",
       "      <th>Parch</th>\n",
       "      <th>Ticket</th>\n",
       "      <th>Fare</th>\n",
       "      <th>Cabin</th>\n",
       "      <th>Embarked</th>\n",
       "      <th>RelativesOnboard</th>\n",
       "    </tr>\n",
       "  </thead>\n",
       "  <tbody>\n",
       "    <tr>\n",
       "      <th>0</th>\n",
       "      <td>1</td>\n",
       "      <td>0</td>\n",
       "      <td>3</td>\n",
       "      <td>Braund, Mr. Owen Harris</td>\n",
       "      <td>male</td>\n",
       "      <td>22.0</td>\n",
       "      <td>1</td>\n",
       "      <td>0</td>\n",
       "      <td>A/5 21171</td>\n",
       "      <td>7.2500</td>\n",
       "      <td>NaN</td>\n",
       "      <td>S</td>\n",
       "      <td>1</td>\n",
       "    </tr>\n",
       "    <tr>\n",
       "      <th>1</th>\n",
       "      <td>2</td>\n",
       "      <td>1</td>\n",
       "      <td>1</td>\n",
       "      <td>Cumings, Mrs. John Bradley (Florence Briggs Th...</td>\n",
       "      <td>female</td>\n",
       "      <td>38.0</td>\n",
       "      <td>1</td>\n",
       "      <td>0</td>\n",
       "      <td>PC 17599</td>\n",
       "      <td>71.2833</td>\n",
       "      <td>C85</td>\n",
       "      <td>C</td>\n",
       "      <td>1</td>\n",
       "    </tr>\n",
       "    <tr>\n",
       "      <th>2</th>\n",
       "      <td>3</td>\n",
       "      <td>1</td>\n",
       "      <td>3</td>\n",
       "      <td>Heikkinen, Miss. Laina</td>\n",
       "      <td>female</td>\n",
       "      <td>26.0</td>\n",
       "      <td>0</td>\n",
       "      <td>0</td>\n",
       "      <td>STON/O2. 3101282</td>\n",
       "      <td>7.9250</td>\n",
       "      <td>NaN</td>\n",
       "      <td>S</td>\n",
       "      <td>0</td>\n",
       "    </tr>\n",
       "    <tr>\n",
       "      <th>3</th>\n",
       "      <td>4</td>\n",
       "      <td>1</td>\n",
       "      <td>1</td>\n",
       "      <td>Futrelle, Mrs. Jacques Heath (Lily May Peel)</td>\n",
       "      <td>female</td>\n",
       "      <td>35.0</td>\n",
       "      <td>1</td>\n",
       "      <td>0</td>\n",
       "      <td>113803</td>\n",
       "      <td>53.1000</td>\n",
       "      <td>C123</td>\n",
       "      <td>S</td>\n",
       "      <td>1</td>\n",
       "    </tr>\n",
       "    <tr>\n",
       "      <th>4</th>\n",
       "      <td>5</td>\n",
       "      <td>0</td>\n",
       "      <td>3</td>\n",
       "      <td>Allen, Mr. William Henry</td>\n",
       "      <td>male</td>\n",
       "      <td>35.0</td>\n",
       "      <td>0</td>\n",
       "      <td>0</td>\n",
       "      <td>373450</td>\n",
       "      <td>8.0500</td>\n",
       "      <td>NaN</td>\n",
       "      <td>S</td>\n",
       "      <td>0</td>\n",
       "    </tr>\n",
       "    <tr>\n",
       "      <th>...</th>\n",
       "      <td>...</td>\n",
       "      <td>...</td>\n",
       "      <td>...</td>\n",
       "      <td>...</td>\n",
       "      <td>...</td>\n",
       "      <td>...</td>\n",
       "      <td>...</td>\n",
       "      <td>...</td>\n",
       "      <td>...</td>\n",
       "      <td>...</td>\n",
       "      <td>...</td>\n",
       "      <td>...</td>\n",
       "      <td>...</td>\n",
       "    </tr>\n",
       "    <tr>\n",
       "      <th>886</th>\n",
       "      <td>887</td>\n",
       "      <td>0</td>\n",
       "      <td>2</td>\n",
       "      <td>Montvila, Rev. Juozas</td>\n",
       "      <td>male</td>\n",
       "      <td>27.0</td>\n",
       "      <td>0</td>\n",
       "      <td>0</td>\n",
       "      <td>211536</td>\n",
       "      <td>13.0000</td>\n",
       "      <td>NaN</td>\n",
       "      <td>S</td>\n",
       "      <td>0</td>\n",
       "    </tr>\n",
       "    <tr>\n",
       "      <th>887</th>\n",
       "      <td>888</td>\n",
       "      <td>1</td>\n",
       "      <td>1</td>\n",
       "      <td>Graham, Miss. Margaret Edith</td>\n",
       "      <td>female</td>\n",
       "      <td>19.0</td>\n",
       "      <td>0</td>\n",
       "      <td>0</td>\n",
       "      <td>112053</td>\n",
       "      <td>30.0000</td>\n",
       "      <td>B42</td>\n",
       "      <td>S</td>\n",
       "      <td>0</td>\n",
       "    </tr>\n",
       "    <tr>\n",
       "      <th>888</th>\n",
       "      <td>889</td>\n",
       "      <td>0</td>\n",
       "      <td>3</td>\n",
       "      <td>Johnston, Miss. Catherine Helen \"Carrie\"</td>\n",
       "      <td>female</td>\n",
       "      <td>NaN</td>\n",
       "      <td>1</td>\n",
       "      <td>2</td>\n",
       "      <td>W./C. 6607</td>\n",
       "      <td>23.4500</td>\n",
       "      <td>NaN</td>\n",
       "      <td>S</td>\n",
       "      <td>3</td>\n",
       "    </tr>\n",
       "    <tr>\n",
       "      <th>889</th>\n",
       "      <td>890</td>\n",
       "      <td>1</td>\n",
       "      <td>1</td>\n",
       "      <td>Behr, Mr. Karl Howell</td>\n",
       "      <td>male</td>\n",
       "      <td>26.0</td>\n",
       "      <td>0</td>\n",
       "      <td>0</td>\n",
       "      <td>111369</td>\n",
       "      <td>30.0000</td>\n",
       "      <td>C148</td>\n",
       "      <td>C</td>\n",
       "      <td>0</td>\n",
       "    </tr>\n",
       "    <tr>\n",
       "      <th>890</th>\n",
       "      <td>891</td>\n",
       "      <td>0</td>\n",
       "      <td>3</td>\n",
       "      <td>Dooley, Mr. Patrick</td>\n",
       "      <td>male</td>\n",
       "      <td>32.0</td>\n",
       "      <td>0</td>\n",
       "      <td>0</td>\n",
       "      <td>370376</td>\n",
       "      <td>7.7500</td>\n",
       "      <td>NaN</td>\n",
       "      <td>Q</td>\n",
       "      <td>0</td>\n",
       "    </tr>\n",
       "  </tbody>\n",
       "</table>\n",
       "<p>891 rows × 13 columns</p>\n",
       "</div>"
      ],
      "text/plain": [
       "     PassengerId  Survived  Pclass  \\\n",
       "0              1         0       3   \n",
       "1              2         1       1   \n",
       "2              3         1       3   \n",
       "3              4         1       1   \n",
       "4              5         0       3   \n",
       "..           ...       ...     ...   \n",
       "886          887         0       2   \n",
       "887          888         1       1   \n",
       "888          889         0       3   \n",
       "889          890         1       1   \n",
       "890          891         0       3   \n",
       "\n",
       "                                                  Name     Sex   Age  SibSp  \\\n",
       "0                              Braund, Mr. Owen Harris    male  22.0      1   \n",
       "1    Cumings, Mrs. John Bradley (Florence Briggs Th...  female  38.0      1   \n",
       "2                               Heikkinen, Miss. Laina  female  26.0      0   \n",
       "3         Futrelle, Mrs. Jacques Heath (Lily May Peel)  female  35.0      1   \n",
       "4                             Allen, Mr. William Henry    male  35.0      0   \n",
       "..                                                 ...     ...   ...    ...   \n",
       "886                              Montvila, Rev. Juozas    male  27.0      0   \n",
       "887                       Graham, Miss. Margaret Edith  female  19.0      0   \n",
       "888           Johnston, Miss. Catherine Helen \"Carrie\"  female   NaN      1   \n",
       "889                              Behr, Mr. Karl Howell    male  26.0      0   \n",
       "890                                Dooley, Mr. Patrick    male  32.0      0   \n",
       "\n",
       "     Parch            Ticket     Fare Cabin Embarked  RelativesOnboard  \n",
       "0        0         A/5 21171   7.2500   NaN        S                 1  \n",
       "1        0          PC 17599  71.2833   C85        C                 1  \n",
       "2        0  STON/O2. 3101282   7.9250   NaN        S                 0  \n",
       "3        0            113803  53.1000  C123        S                 1  \n",
       "4        0            373450   8.0500   NaN        S                 0  \n",
       "..     ...               ...      ...   ...      ...               ...  \n",
       "886      0            211536  13.0000   NaN        S                 0  \n",
       "887      0            112053  30.0000   B42        S                 0  \n",
       "888      2        W./C. 6607  23.4500   NaN        S                 3  \n",
       "889      0            111369  30.0000  C148        C                 0  \n",
       "890      0            370376   7.7500   NaN        Q                 0  \n",
       "\n",
       "[891 rows x 13 columns]"
      ]
     },
     "execution_count": 25,
     "metadata": {},
     "output_type": "execute_result"
    }
   ],
   "source": [
    "train_df"
   ]
  },
  {
   "cell_type": "code",
   "execution_count": 26,
   "id": "9cc5f421",
   "metadata": {
    "execution": {
     "iopub.execute_input": "2021-10-05T16:05:07.947974Z",
     "iopub.status.busy": "2021-10-05T16:05:07.946904Z",
     "iopub.status.idle": "2021-10-05T16:05:07.961793Z",
     "shell.execute_reply": "2021-10-05T16:05:07.962256Z",
     "shell.execute_reply.started": "2021-10-05T16:04:17.751988Z"
    },
    "papermill": {
     "duration": 0.081627,
     "end_time": "2021-10-05T16:05:07.962441",
     "exception": false,
     "start_time": "2021-10-05T16:05:07.880814",
     "status": "completed"
    },
    "tags": []
   },
   "outputs": [],
   "source": [
    "X_train = full_pipeline.fit_transform(train_df)"
   ]
  },
  {
   "cell_type": "code",
   "execution_count": 27,
   "id": "10b7995d",
   "metadata": {
    "execution": {
     "iopub.execute_input": "2021-10-05T16:05:08.086179Z",
     "iopub.status.busy": "2021-10-05T16:05:08.085168Z",
     "iopub.status.idle": "2021-10-05T16:05:08.092095Z",
     "shell.execute_reply": "2021-10-05T16:05:08.091456Z",
     "shell.execute_reply.started": "2021-10-05T16:04:17.937847Z"
    },
    "papermill": {
     "duration": 0.070089,
     "end_time": "2021-10-05T16:05:08.092236",
     "exception": false,
     "start_time": "2021-10-05T16:05:08.022147",
     "status": "completed"
    },
    "tags": []
   },
   "outputs": [
    {
     "data": {
      "text/plain": [
       "(891, 8)"
      ]
     },
     "execution_count": 27,
     "metadata": {},
     "output_type": "execute_result"
    }
   ],
   "source": [
    "X_train.shape"
   ]
  },
  {
   "cell_type": "code",
   "execution_count": 28,
   "id": "61479d79",
   "metadata": {
    "execution": {
     "iopub.execute_input": "2021-10-05T16:05:08.214210Z",
     "iopub.status.busy": "2021-10-05T16:05:08.213346Z",
     "iopub.status.idle": "2021-10-05T16:05:08.216256Z",
     "shell.execute_reply": "2021-10-05T16:05:08.215726Z",
     "shell.execute_reply.started": "2021-10-05T16:04:18.646836Z"
    },
    "papermill": {
     "duration": 0.065612,
     "end_time": "2021-10-05T16:05:08.216394",
     "exception": false,
     "start_time": "2021-10-05T16:05:08.150782",
     "status": "completed"
    },
    "tags": []
   },
   "outputs": [],
   "source": [
    "y_train = train_df['Survived']"
   ]
  },
  {
   "cell_type": "code",
   "execution_count": 29,
   "id": "82fc3dc1",
   "metadata": {
    "execution": {
     "iopub.execute_input": "2021-10-05T16:05:08.336510Z",
     "iopub.status.busy": "2021-10-05T16:05:08.335499Z",
     "iopub.status.idle": "2021-10-05T16:05:08.342606Z",
     "shell.execute_reply": "2021-10-05T16:05:08.343116Z",
     "shell.execute_reply.started": "2021-10-05T16:04:19.279573Z"
    },
    "papermill": {
     "duration": 0.06917,
     "end_time": "2021-10-05T16:05:08.343291",
     "exception": false,
     "start_time": "2021-10-05T16:05:08.274121",
     "status": "completed"
    },
    "tags": []
   },
   "outputs": [
    {
     "data": {
      "text/plain": [
       "0      0\n",
       "1      1\n",
       "2      1\n",
       "3      1\n",
       "4      0\n",
       "      ..\n",
       "886    0\n",
       "887    1\n",
       "888    0\n",
       "889    1\n",
       "890    0\n",
       "Name: Survived, Length: 891, dtype: int64"
      ]
     },
     "execution_count": 29,
     "metadata": {},
     "output_type": "execute_result"
    }
   ],
   "source": [
    "y_train"
   ]
  },
  {
   "cell_type": "markdown",
   "id": "73c01e8c",
   "metadata": {
    "papermill": {
     "duration": 0.058737,
     "end_time": "2021-10-05T16:05:08.460194",
     "exception": false,
     "start_time": "2021-10-05T16:05:08.401457",
     "status": "completed"
    },
    "tags": []
   },
   "source": [
    "## Select and train a model"
   ]
  },
  {
   "cell_type": "markdown",
   "id": "16770a2c",
   "metadata": {
    "papermill": {
     "duration": 0.057857,
     "end_time": "2021-10-05T16:05:08.576565",
     "exception": false,
     "start_time": "2021-10-05T16:05:08.518708",
     "status": "completed"
    },
    "tags": []
   },
   "source": [
    "### Random Forest"
   ]
  },
  {
   "cell_type": "code",
   "execution_count": 30,
   "id": "b6bad956",
   "metadata": {
    "execution": {
     "iopub.execute_input": "2021-10-05T16:05:08.697551Z",
     "iopub.status.busy": "2021-10-05T16:05:08.696557Z",
     "iopub.status.idle": "2021-10-05T16:05:08.754152Z",
     "shell.execute_reply": "2021-10-05T16:05:08.753518Z",
     "shell.execute_reply.started": "2021-10-05T16:04:22.097200Z"
    },
    "papermill": {
     "duration": 0.119677,
     "end_time": "2021-10-05T16:05:08.754307",
     "exception": false,
     "start_time": "2021-10-05T16:05:08.634630",
     "status": "completed"
    },
    "tags": []
   },
   "outputs": [],
   "source": [
    "from sklearn.ensemble import RandomForestClassifier\n",
    "rand_forest = RandomForestClassifier()"
   ]
  },
  {
   "cell_type": "code",
   "execution_count": 31,
   "id": "0315f97a",
   "metadata": {
    "execution": {
     "iopub.execute_input": "2021-10-05T16:05:08.878488Z",
     "iopub.status.busy": "2021-10-05T16:05:08.877844Z",
     "iopub.status.idle": "2021-10-05T16:05:09.129466Z",
     "shell.execute_reply": "2021-10-05T16:05:09.128785Z",
     "shell.execute_reply.started": "2021-10-05T16:04:22.268649Z"
    },
    "papermill": {
     "duration": 0.314357,
     "end_time": "2021-10-05T16:05:09.129663",
     "exception": false,
     "start_time": "2021-10-05T16:05:08.815306",
     "status": "completed"
    },
    "tags": []
   },
   "outputs": [
    {
     "data": {
      "text/plain": [
       "RandomForestClassifier()"
      ]
     },
     "execution_count": 31,
     "metadata": {},
     "output_type": "execute_result"
    }
   ],
   "source": [
    "rand_forest.fit(X_train, y_train)"
   ]
  },
  {
   "cell_type": "code",
   "execution_count": 32,
   "id": "ecf2144a",
   "metadata": {
    "execution": {
     "iopub.execute_input": "2021-10-05T16:05:09.255062Z",
     "iopub.status.busy": "2021-10-05T16:05:09.254356Z",
     "iopub.status.idle": "2021-10-05T16:05:11.615294Z",
     "shell.execute_reply": "2021-10-05T16:05:11.614567Z",
     "shell.execute_reply.started": "2021-10-05T16:04:22.467783Z"
    },
    "papermill": {
     "duration": 2.427037,
     "end_time": "2021-10-05T16:05:11.615440",
     "exception": false,
     "start_time": "2021-10-05T16:05:09.188403",
     "status": "completed"
    },
    "tags": []
   },
   "outputs": [
    {
     "data": {
      "text/plain": [
       "0.8148689138576779"
      ]
     },
     "execution_count": 32,
     "metadata": {},
     "output_type": "execute_result"
    }
   ],
   "source": [
    "rand_forest_scores = cross_val_score(rand_forest, X_train, y_train, cv=10)\n",
    "rand_forest_scores.mean()"
   ]
  },
  {
   "cell_type": "markdown",
   "id": "7299e327",
   "metadata": {
    "papermill": {
     "duration": 0.058387,
     "end_time": "2021-10-05T16:05:11.732433",
     "exception": false,
     "start_time": "2021-10-05T16:05:11.674046",
     "status": "completed"
    },
    "tags": []
   },
   "source": [
    "### KNN"
   ]
  },
  {
   "cell_type": "code",
   "execution_count": 33,
   "id": "5454a990",
   "metadata": {
    "execution": {
     "iopub.execute_input": "2021-10-05T16:05:11.856206Z",
     "iopub.status.busy": "2021-10-05T16:05:11.855199Z",
     "iopub.status.idle": "2021-10-05T16:05:11.858390Z",
     "shell.execute_reply": "2021-10-05T16:05:11.857759Z",
     "shell.execute_reply.started": "2021-10-05T16:04:24.276662Z"
    },
    "papermill": {
     "duration": 0.067615,
     "end_time": "2021-10-05T16:05:11.858529",
     "exception": false,
     "start_time": "2021-10-05T16:05:11.790914",
     "status": "completed"
    },
    "tags": []
   },
   "outputs": [],
   "source": [
    "from sklearn.neighbors import KNeighborsClassifier\n",
    "knn = KNeighborsClassifier()"
   ]
  },
  {
   "cell_type": "code",
   "execution_count": 34,
   "id": "66cce474",
   "metadata": {
    "execution": {
     "iopub.execute_input": "2021-10-05T16:05:11.980870Z",
     "iopub.status.busy": "2021-10-05T16:05:11.980208Z",
     "iopub.status.idle": "2021-10-05T16:05:11.990002Z",
     "shell.execute_reply": "2021-10-05T16:05:11.989463Z",
     "shell.execute_reply.started": "2021-10-05T16:04:24.284022Z"
    },
    "papermill": {
     "duration": 0.072463,
     "end_time": "2021-10-05T16:05:11.990154",
     "exception": false,
     "start_time": "2021-10-05T16:05:11.917691",
     "status": "completed"
    },
    "tags": []
   },
   "outputs": [
    {
     "data": {
      "text/plain": [
       "KNeighborsClassifier()"
      ]
     },
     "execution_count": 34,
     "metadata": {},
     "output_type": "execute_result"
    }
   ],
   "source": [
    "knn.fit(X_train, y_train)"
   ]
  },
  {
   "cell_type": "code",
   "execution_count": 35,
   "id": "6aef3f6f",
   "metadata": {
    "execution": {
     "iopub.execute_input": "2021-10-05T16:05:12.113684Z",
     "iopub.status.busy": "2021-10-05T16:05:12.113021Z",
     "iopub.status.idle": "2021-10-05T16:05:12.185718Z",
     "shell.execute_reply": "2021-10-05T16:05:12.186191Z",
     "shell.execute_reply.started": "2021-10-05T16:04:24.297024Z"
    },
    "papermill": {
     "duration": 0.13601,
     "end_time": "2021-10-05T16:05:12.186375",
     "exception": false,
     "start_time": "2021-10-05T16:05:12.050365",
     "status": "completed"
    },
    "tags": []
   },
   "outputs": [
    {
     "data": {
      "text/plain": [
       "0.8215980024968788"
      ]
     },
     "execution_count": 35,
     "metadata": {},
     "output_type": "execute_result"
    }
   ],
   "source": [
    "knn_scores = cross_val_score(knn, X_train, y_train, cv=10)\n",
    "knn_scores.mean()"
   ]
  },
  {
   "cell_type": "markdown",
   "id": "fa9f3d59",
   "metadata": {
    "papermill": {
     "duration": 0.059125,
     "end_time": "2021-10-05T16:05:12.305362",
     "exception": false,
     "start_time": "2021-10-05T16:05:12.246237",
     "status": "completed"
    },
    "tags": []
   },
   "source": [
    "### SVC"
   ]
  },
  {
   "cell_type": "code",
   "execution_count": 36,
   "id": "d60f0609",
   "metadata": {
    "execution": {
     "iopub.execute_input": "2021-10-05T16:05:12.429089Z",
     "iopub.status.busy": "2021-10-05T16:05:12.428350Z",
     "iopub.status.idle": "2021-10-05T16:05:12.432035Z",
     "shell.execute_reply": "2021-10-05T16:05:12.432553Z",
     "shell.execute_reply.started": "2021-10-05T16:04:25.297015Z"
    },
    "papermill": {
     "duration": 0.06805,
     "end_time": "2021-10-05T16:05:12.432742",
     "exception": false,
     "start_time": "2021-10-05T16:05:12.364692",
     "status": "completed"
    },
    "tags": []
   },
   "outputs": [],
   "source": [
    "from sklearn.svm import SVC\n",
    "svm = SVC(kernel=\"rbf\")"
   ]
  },
  {
   "cell_type": "code",
   "execution_count": 37,
   "id": "9a075ae9",
   "metadata": {
    "execution": {
     "iopub.execute_input": "2021-10-05T16:05:12.562710Z",
     "iopub.status.busy": "2021-10-05T16:05:12.561748Z",
     "iopub.status.idle": "2021-10-05T16:05:12.600716Z",
     "shell.execute_reply": "2021-10-05T16:05:12.601565Z",
     "shell.execute_reply.started": "2021-10-05T16:04:25.779620Z"
    },
    "papermill": {
     "duration": 0.10959,
     "end_time": "2021-10-05T16:05:12.601845",
     "exception": false,
     "start_time": "2021-10-05T16:05:12.492255",
     "status": "completed"
    },
    "tags": []
   },
   "outputs": [
    {
     "data": {
      "text/plain": [
       "SVC()"
      ]
     },
     "execution_count": 37,
     "metadata": {},
     "output_type": "execute_result"
    }
   ],
   "source": [
    "svm.fit(X_train, y_train)"
   ]
  },
  {
   "cell_type": "code",
   "execution_count": 38,
   "id": "2787d117",
   "metadata": {
    "execution": {
     "iopub.execute_input": "2021-10-05T16:05:12.746458Z",
     "iopub.status.busy": "2021-10-05T16:05:12.745778Z",
     "iopub.status.idle": "2021-10-05T16:05:12.965869Z",
     "shell.execute_reply": "2021-10-05T16:05:12.965347Z",
     "shell.execute_reply.started": "2021-10-05T16:04:26.200027Z"
    },
    "papermill": {
     "duration": 0.285737,
     "end_time": "2021-10-05T16:05:12.966017",
     "exception": false,
     "start_time": "2021-10-05T16:05:12.680280",
     "status": "completed"
    },
    "tags": []
   },
   "outputs": [
    {
     "data": {
      "text/plain": [
       "0.8271535580524345"
      ]
     },
     "execution_count": 38,
     "metadata": {},
     "output_type": "execute_result"
    }
   ],
   "source": [
    "svm_scores = cross_val_score(svm, X_train, y_train, cv=10)\n",
    "svm_scores.mean()"
   ]
  },
  {
   "cell_type": "code",
   "execution_count": 39,
   "id": "41198caa",
   "metadata": {
    "execution": {
     "iopub.execute_input": "2021-10-05T16:05:13.125297Z",
     "iopub.status.busy": "2021-10-05T16:05:13.124274Z",
     "iopub.status.idle": "2021-10-05T16:05:13.277519Z",
     "shell.execute_reply": "2021-10-05T16:05:13.276861Z",
     "shell.execute_reply.started": "2021-10-05T16:04:26.618289Z"
    },
    "papermill": {
     "duration": 0.25145,
     "end_time": "2021-10-05T16:05:13.277686",
     "exception": false,
     "start_time": "2021-10-05T16:05:13.026236",
     "status": "completed"
    },
    "tags": []
   },
   "outputs": [
    {
     "data": {
      "image/png": "[encoded data removed]",
      "text/plain": [
       "<Figure size 864x576 with 1 Axes>"
      ]
     },
     "metadata": {
      "needs_background": "light"
     },
     "output_type": "display_data"
    }
   ],
   "source": [
    "plt.figure(figsize=(12, 8))\n",
    "plt.plot([1]*10, rand_forest_scores, \".\")\n",
    "plt.plot([2]*10, knn_scores, \".\")\n",
    "plt.plot([3]*10, svm_scores, \".\")\n",
    "plt.boxplot([rand_forest_scores, knn_scores, svm_scores], labels=(\"Random Forest\",\"KNN\", \"SVM\"))\n",
    "plt.ylabel(\"Accuracy\", fontsize=14)\n",
    "plt.show()"
   ]
  },
  {
   "cell_type": "markdown",
   "id": "90c9ee0e",
   "metadata": {
    "papermill": {
     "duration": 0.060313,
     "end_time": "2021-10-05T16:05:13.399945",
     "exception": false,
     "start_time": "2021-10-05T16:05:13.339632",
     "status": "completed"
    },
    "tags": []
   },
   "source": [
    "### Grid search for SVM"
   ]
  },
  {
   "cell_type": "code",
   "execution_count": 40,
   "id": "daa5c570",
   "metadata": {
    "execution": {
     "iopub.execute_input": "2021-10-05T16:05:13.527742Z",
     "iopub.status.busy": "2021-10-05T16:05:13.527059Z",
     "iopub.status.idle": "2021-10-05T16:05:13.529257Z",
     "shell.execute_reply": "2021-10-05T16:05:13.529732Z",
     "shell.execute_reply.started": "2021-10-05T16:04:32.706812Z"
    },
    "papermill": {
     "duration": 0.069077,
     "end_time": "2021-10-05T16:05:13.529922",
     "exception": false,
     "start_time": "2021-10-05T16:05:13.460845",
     "status": "completed"
    },
    "tags": []
   },
   "outputs": [],
   "source": [
    "param_grid = [\n",
    "    {'C': [0.5, 1.0, 2.0, 3.0],\n",
    "     'kernel': ['linear', 'poly', 'rbf', 'sigmoid'],\n",
    "     'gamma': ['scale', 'auto']\n",
    "    },\n",
    "]"
   ]
  },
  {
   "cell_type": "code",
   "execution_count": 41,
   "id": "a3b31824",
   "metadata": {
    "execution": {
     "iopub.execute_input": "2021-10-05T16:05:13.658636Z",
     "iopub.status.busy": "2021-10-05T16:05:13.657966Z",
     "iopub.status.idle": "2021-10-05T16:05:13.661532Z",
     "shell.execute_reply": "2021-10-05T16:05:13.662018Z",
     "shell.execute_reply.started": "2021-10-05T16:04:32.876579Z"
    },
    "papermill": {
     "duration": 0.068405,
     "end_time": "2021-10-05T16:05:13.662194",
     "exception": false,
     "start_time": "2021-10-05T16:05:13.593789",
     "status": "completed"
    },
    "tags": []
   },
   "outputs": [],
   "source": [
    "grid_search = GridSearchCV(svm, param_grid, cv=5, verbose=3)"
   ]
  },
  {
   "cell_type": "code",
   "execution_count": 42,
   "id": "00517aed",
   "metadata": {
    "execution": {
     "iopub.execute_input": "2021-10-05T16:05:13.788733Z",
     "iopub.status.busy": "2021-10-05T16:05:13.787711Z",
     "iopub.status.idle": "2021-10-05T16:05:16.450278Z",
     "shell.execute_reply": "2021-10-05T16:05:16.450799Z",
     "shell.execute_reply.started": "2021-10-05T16:04:33.078340Z"
    },
    "papermill": {
     "duration": 2.727338,
     "end_time": "2021-10-05T16:05:16.450980",
     "exception": false,
     "start_time": "2021-10-05T16:05:13.723642",
     "status": "completed"
    },
    "tags": []
   },
   "outputs": [
    {
     "name": "stdout",
     "output_type": "stream",
     "text": [
      "Fitting 5 folds for each of 32 candidates, totalling 160 fits\n",
      "[CV] C=0.5, gamma=scale, kernel=linear ...............................\n",
      "[CV] ... C=0.5, gamma=scale, kernel=linear, score=0.804, total=   0.0s\n",
      "[CV] C=0.5, gamma=scale, kernel=linear ...............................\n",
      "[CV] ... C=0.5, gamma=scale, kernel=linear, score=0.803, total=   0.0s\n",
      "[CV] C=0.5, gamma=scale, kernel=linear ...............................\n",
      "[CV] ... C=0.5, gamma=scale, kernel=linear, score=0.787, total=   0.0s\n",
      "[CV] C=0.5, gamma=scale, kernel=linear ...............................\n",
      "[CV] ... C=0.5, gamma=scale, kernel=linear, score=0.753, total=   0.0s\n",
      "[CV] C=0.5, gamma=scale, kernel=linear ...............................\n",
      "[CV] ... C=0.5, gamma=scale, kernel=linear, score=0.787, total=   0.0s\n",
      "[CV] C=0.5, gamma=scale, kernel=poly .................................\n",
      "[CV] ..... C=0.5, gamma=scale, kernel=poly, score=0.777, total=   0.0s\n",
      "[CV] C=0.5, gamma=scale, kernel=poly .................................\n",
      "[CV] ..... C=0.5, gamma=scale, kernel=poly, score=0.820, total=   0.0s\n",
      "[CV] C=0.5, gamma=scale, kernel=poly .................................\n",
      "[CV] ..... C=0.5, gamma=scale, kernel=poly, score=0.848, total=   0.0s\n",
      "[CV] C=0.5, gamma=scale, kernel=poly .................................\n",
      "[CV] ..... C=0.5, gamma=scale, kernel=poly, score=0.781, total=   0.0s\n",
      "[CV] C=0.5, gamma=scale, kernel=poly .................................\n",
      "[CV] ..... C=0.5, gamma=scale, kernel=poly, score=0.843, total=   0.0s\n",
      "[CV] C=0.5, gamma=scale, kernel=rbf ..................................\n",
      "[CV] ...... C=0.5, gamma=scale, kernel=rbf, score=0.816, total=   0.0s\n",
      "[CV] C=0.5, gamma=scale, kernel=rbf ..................................\n",
      "[CV] ...... C=0.5, gamma=scale, kernel=rbf, score=0.831, total=   0.0s\n",
      "[CV] C=0.5, gamma=scale, kernel=rbf ..................................\n",
      "[CV] ...... C=0.5, gamma=scale, kernel=rbf, score=0.815, total=   0.0s\n",
      "[CV] C=0.5, gamma=scale, kernel=rbf ..................................\n",
      "[CV] ...... C=0.5, gamma=scale, kernel=rbf, score=0.792, total=   0.0s\n",
      "[CV] C=0.5, gamma=scale, kernel=rbf ..................................\n"
     ]
    },
    {
     "name": "stderr",
     "output_type": "stream",
     "text": [
      "[Parallel(n_jobs=1)]: Using backend SequentialBackend with 1 concurrent workers.\n",
      "[Parallel(n_jobs=1)]: Done   1 out of   1 | elapsed:    0.0s remaining:    0.0s\n",
      "[Parallel(n_jobs=1)]: Done   2 out of   2 | elapsed:    0.0s remaining:    0.0s\n"
     ]
    },
    {
     "name": "stdout",
     "output_type": "stream",
     "text": [
      "[CV] ...... C=0.5, gamma=scale, kernel=rbf, score=0.837, total=   0.0s\n",
      "[CV] C=0.5, gamma=scale, kernel=sigmoid ..............................\n",
      "[CV] .. C=0.5, gamma=scale, kernel=sigmoid, score=0.687, total=   0.0s\n",
      "[CV] C=0.5, gamma=scale, kernel=sigmoid ..............................\n",
      "[CV] .. C=0.5, gamma=scale, kernel=sigmoid, score=0.697, total=   0.0s\n",
      "[CV] C=0.5, gamma=scale, kernel=sigmoid ..............................\n",
      "[CV] .. C=0.5, gamma=scale, kernel=sigmoid, score=0.758, total=   0.0s\n",
      "[CV] C=0.5, gamma=scale, kernel=sigmoid ..............................\n",
      "[CV] .. C=0.5, gamma=scale, kernel=sigmoid, score=0.725, total=   0.0s\n",
      "[CV] C=0.5, gamma=scale, kernel=sigmoid ..............................\n",
      "[CV] .. C=0.5, gamma=scale, kernel=sigmoid, score=0.702, total=   0.0s\n",
      "[CV] C=0.5, gamma=auto, kernel=linear ................................\n",
      "[CV] .... C=0.5, gamma=auto, kernel=linear, score=0.804, total=   0.0s\n",
      "[CV] C=0.5, gamma=auto, kernel=linear ................................\n",
      "[CV] .... C=0.5, gamma=auto, kernel=linear, score=0.803, total=   0.0s\n",
      "[CV] C=0.5, gamma=auto, kernel=linear ................................\n",
      "[CV] .... C=0.5, gamma=auto, kernel=linear, score=0.787, total=   0.0s\n",
      "[CV] C=0.5, gamma=auto, kernel=linear ................................\n",
      "[CV] .... C=0.5, gamma=auto, kernel=linear, score=0.753, total=   0.0s\n",
      "[CV] C=0.5, gamma=auto, kernel=linear ................................\n",
      "[CV] .... C=0.5, gamma=auto, kernel=linear, score=0.787, total=   0.0s\n",
      "[CV] C=0.5, gamma=auto, kernel=poly ..................................\n",
      "[CV] ...... C=0.5, gamma=auto, kernel=poly, score=0.732, total=   0.0s\n",
      "[CV] C=0.5, gamma=auto, kernel=poly ..................................\n",
      "[CV] ...... C=0.5, gamma=auto, kernel=poly, score=0.764, total=   0.0s\n",
      "[CV] C=0.5, gamma=auto, kernel=poly ..................................\n",
      "[CV] ...... C=0.5, gamma=auto, kernel=poly, score=0.736, total=   0.0s\n",
      "[CV] C=0.5, gamma=auto, kernel=poly ..................................\n",
      "[CV] ...... C=0.5, gamma=auto, kernel=poly, score=0.736, total=   0.0s\n",
      "[CV] C=0.5, gamma=auto, kernel=poly ..................................\n",
      "[CV] ...... C=0.5, gamma=auto, kernel=poly, score=0.781, total=   0.0s\n",
      "[CV] C=0.5, gamma=auto, kernel=rbf ...................................\n",
      "[CV] ....... C=0.5, gamma=auto, kernel=rbf, score=0.793, total=   0.0s\n",
      "[CV] C=0.5, gamma=auto, kernel=rbf ...................................\n",
      "[CV] ....... C=0.5, gamma=auto, kernel=rbf, score=0.815, total=   0.0s\n",
      "[CV] C=0.5, gamma=auto, kernel=rbf ...................................\n",
      "[CV] ....... C=0.5, gamma=auto, kernel=rbf, score=0.775, total=   0.0s\n",
      "[CV] C=0.5, gamma=auto, kernel=rbf ...................................\n",
      "[CV] ....... C=0.5, gamma=auto, kernel=rbf, score=0.758, total=   0.0s\n",
      "[CV] C=0.5, gamma=auto, kernel=rbf ...................................\n",
      "[CV] ....... C=0.5, gamma=auto, kernel=rbf, score=0.792, total=   0.0s\n",
      "[CV] C=0.5, gamma=auto, kernel=sigmoid ...............................\n",
      "[CV] ... C=0.5, gamma=auto, kernel=sigmoid, score=0.709, total=   0.0s\n",
      "[CV] C=0.5, gamma=auto, kernel=sigmoid ...............................\n",
      "[CV] ... C=0.5, gamma=auto, kernel=sigmoid, score=0.787, total=   0.0s\n",
      "[CV] C=0.5, gamma=auto, kernel=sigmoid ...............................\n",
      "[CV] ... C=0.5, gamma=auto, kernel=sigmoid, score=0.742, total=   0.0s\n",
      "[CV] C=0.5, gamma=auto, kernel=sigmoid ...............................\n",
      "[CV] ... C=0.5, gamma=auto, kernel=sigmoid, score=0.736, total=   0.0s\n",
      "[CV] C=0.5, gamma=auto, kernel=sigmoid ...............................\n",
      "[CV] ... C=0.5, gamma=auto, kernel=sigmoid, score=0.742, total=   0.0s\n",
      "[CV] C=1.0, gamma=scale, kernel=linear ...............................\n",
      "[CV] ... C=1.0, gamma=scale, kernel=linear, score=0.804, total=   0.0s\n",
      "[CV] C=1.0, gamma=scale, kernel=linear ...............................\n",
      "[CV] ... C=1.0, gamma=scale, kernel=linear, score=0.803, total=   0.0s\n",
      "[CV] C=1.0, gamma=scale, kernel=linear ...............................\n",
      "[CV] ... C=1.0, gamma=scale, kernel=linear, score=0.787, total=   0.0s\n",
      "[CV] C=1.0, gamma=scale, kernel=linear ...............................\n",
      "[CV] ... C=1.0, gamma=scale, kernel=linear, score=0.753, total=   0.0s\n",
      "[CV] C=1.0, gamma=scale, kernel=linear ...............................\n",
      "[CV] ... C=1.0, gamma=scale, kernel=linear, score=0.787, total=   0.0s\n",
      "[CV] C=1.0, gamma=scale, kernel=poly .................................\n",
      "[CV] ..... C=1.0, gamma=scale, kernel=poly, score=0.816, total=   0.0s\n",
      "[CV] C=1.0, gamma=scale, kernel=poly .................................\n",
      "[CV] ..... C=1.0, gamma=scale, kernel=poly, score=0.826, total=   0.0s\n",
      "[CV] C=1.0, gamma=scale, kernel=poly .................................\n",
      "[CV] ..... C=1.0, gamma=scale, kernel=poly, score=0.843, total=   0.0s\n",
      "[CV] C=1.0, gamma=scale, kernel=poly .................................\n",
      "[CV] ..... C=1.0, gamma=scale, kernel=poly, score=0.787, total=   0.0s\n",
      "[CV] C=1.0, gamma=scale, kernel=poly .................................\n",
      "[CV] ..... C=1.0, gamma=scale, kernel=poly, score=0.837, total=   0.0s\n",
      "[CV] C=1.0, gamma=scale, kernel=rbf ..................................\n",
      "[CV] ...... C=1.0, gamma=scale, kernel=rbf, score=0.821, total=   0.0s\n",
      "[CV] C=1.0, gamma=scale, kernel=rbf ..................................\n",
      "[CV] ...... C=1.0, gamma=scale, kernel=rbf, score=0.831, total=   0.0s\n",
      "[CV] C=1.0, gamma=scale, kernel=rbf ..................................\n",
      "[CV] ...... C=1.0, gamma=scale, kernel=rbf, score=0.843, total=   0.0s\n",
      "[CV] C=1.0, gamma=scale, kernel=rbf ..................................\n",
      "[CV] ...... C=1.0, gamma=scale, kernel=rbf, score=0.792, total=   0.0s\n",
      "[CV] C=1.0, gamma=scale, kernel=rbf ..................................\n",
      "[CV] ...... C=1.0, gamma=scale, kernel=rbf, score=0.843, total=   0.0s\n",
      "[CV] C=1.0, gamma=scale, kernel=sigmoid ..............................\n",
      "[CV] .. C=1.0, gamma=scale, kernel=sigmoid, score=0.687, total=   0.0s\n",
      "[CV] C=1.0, gamma=scale, kernel=sigmoid ..............................\n",
      "[CV] .. C=1.0, gamma=scale, kernel=sigmoid, score=0.685, total=   0.0s\n",
      "[CV] C=1.0, gamma=scale, kernel=sigmoid ..............................\n",
      "[CV] .. C=1.0, gamma=scale, kernel=sigmoid, score=0.736, total=   0.0s\n",
      "[CV] C=1.0, gamma=scale, kernel=sigmoid ..............................\n",
      "[CV] .. C=1.0, gamma=scale, kernel=sigmoid, score=0.708, total=   0.0s\n",
      "[CV] C=1.0, gamma=scale, kernel=sigmoid ..............................\n",
      "[CV] .. C=1.0, gamma=scale, kernel=sigmoid, score=0.680, total=   0.0s\n",
      "[CV] C=1.0, gamma=auto, kernel=linear ................................\n",
      "[CV] .... C=1.0, gamma=auto, kernel=linear, score=0.804, total=   0.0s\n",
      "[CV] C=1.0, gamma=auto, kernel=linear ................................\n",
      "[CV] .... C=1.0, gamma=auto, kernel=linear, score=0.803, total=   0.0s\n",
      "[CV] C=1.0, gamma=auto, kernel=linear ................................\n",
      "[CV] .... C=1.0, gamma=auto, kernel=linear, score=0.787, total=   0.0s\n",
      "[CV] C=1.0, gamma=auto, kernel=linear ................................\n",
      "[CV] .... C=1.0, gamma=auto, kernel=linear, score=0.753, total=   0.0s\n",
      "[CV] C=1.0, gamma=auto, kernel=linear ................................\n",
      "[CV] .... C=1.0, gamma=auto, kernel=linear, score=0.787, total=   0.0s\n",
      "[CV] C=1.0, gamma=auto, kernel=poly ..................................\n",
      "[CV] ...... C=1.0, gamma=auto, kernel=poly, score=0.771, total=   0.0s\n",
      "[CV] C=1.0, gamma=auto, kernel=poly ..................................\n",
      "[CV] ...... C=1.0, gamma=auto, kernel=poly, score=0.792, total=   0.0s\n",
      "[CV] C=1.0, gamma=auto, kernel=poly ..................................\n",
      "[CV] ...... C=1.0, gamma=auto, kernel=poly, score=0.798, total=   0.0s\n",
      "[CV] C=1.0, gamma=auto, kernel=poly ..................................\n",
      "[CV] ...... C=1.0, gamma=auto, kernel=poly, score=0.781, total=   0.0s\n",
      "[CV] C=1.0, gamma=auto, kernel=poly ..................................\n",
      "[CV] ...... C=1.0, gamma=auto, kernel=poly, score=0.837, total=   0.0s\n",
      "[CV] C=1.0, gamma=auto, kernel=rbf ...................................\n",
      "[CV] ....... C=1.0, gamma=auto, kernel=rbf, score=0.821, total=   0.0s\n",
      "[CV] C=1.0, gamma=auto, kernel=rbf ...................................\n",
      "[CV] ....... C=1.0, gamma=auto, kernel=rbf, score=0.831, total=   0.0s\n",
      "[CV] C=1.0, gamma=auto, kernel=rbf ...................................\n",
      "[CV] ....... C=1.0, gamma=auto, kernel=rbf, score=0.803, total=   0.0s\n",
      "[CV] C=1.0, gamma=auto, kernel=rbf ...................................\n",
      "[CV] ....... C=1.0, gamma=auto, kernel=rbf, score=0.787, total=   0.0s\n",
      "[CV] C=1.0, gamma=auto, kernel=rbf ...................................\n",
      "[CV] ....... C=1.0, gamma=auto, kernel=rbf, score=0.831, total=   0.0s\n",
      "[CV] C=1.0, gamma=auto, kernel=sigmoid ...............................\n",
      "[CV] ... C=1.0, gamma=auto, kernel=sigmoid, score=0.687, total=   0.0s\n",
      "[CV] C=1.0, gamma=auto, kernel=sigmoid ...............................\n",
      "[CV] ... C=1.0, gamma=auto, kernel=sigmoid, score=0.736, total=   0.0s\n",
      "[CV] C=1.0, gamma=auto, kernel=sigmoid ...............................\n",
      "[CV] ... C=1.0, gamma=auto, kernel=sigmoid, score=0.753, total=   0.0s\n",
      "[CV] C=1.0, gamma=auto, kernel=sigmoid ...............................\n",
      "[CV] ... C=1.0, gamma=auto, kernel=sigmoid, score=0.719, total=   0.0s\n",
      "[CV] C=1.0, gamma=auto, kernel=sigmoid ...............................\n",
      "[CV] ... C=1.0, gamma=auto, kernel=sigmoid, score=0.730, total=   0.0s\n",
      "[CV] C=2.0, gamma=scale, kernel=linear ...............................\n",
      "[CV] ... C=2.0, gamma=scale, kernel=linear, score=0.804, total=   0.0s\n",
      "[CV] C=2.0, gamma=scale, kernel=linear ...............................\n",
      "[CV] ... C=2.0, gamma=scale, kernel=linear, score=0.803, total=   0.0s\n",
      "[CV] C=2.0, gamma=scale, kernel=linear ...............................\n",
      "[CV] ... C=2.0, gamma=scale, kernel=linear, score=0.787, total=   0.0s\n",
      "[CV] C=2.0, gamma=scale, kernel=linear ...............................\n",
      "[CV] ... C=2.0, gamma=scale, kernel=linear, score=0.753, total=   0.0s\n",
      "[CV] C=2.0, gamma=scale, kernel=linear ...............................\n",
      "[CV] ... C=2.0, gamma=scale, kernel=linear, score=0.787, total=   0.0s\n",
      "[CV] C=2.0, gamma=scale, kernel=poly .................................\n",
      "[CV] ..... C=2.0, gamma=scale, kernel=poly, score=0.816, total=   0.0s\n",
      "[CV] C=2.0, gamma=scale, kernel=poly .................................\n",
      "[CV] ..... C=2.0, gamma=scale, kernel=poly, score=0.820, total=   0.0s\n",
      "[CV] C=2.0, gamma=scale, kernel=poly .................................\n",
      "[CV] ..... C=2.0, gamma=scale, kernel=poly, score=0.843, total=   0.0s\n",
      "[CV] C=2.0, gamma=scale, kernel=poly .................................\n",
      "[CV] ..... C=2.0, gamma=scale, kernel=poly, score=0.787, total=   0.0s\n",
      "[CV] C=2.0, gamma=scale, kernel=poly .................................\n",
      "[CV] ..... C=2.0, gamma=scale, kernel=poly, score=0.837, total=   0.0s\n",
      "[CV] C=2.0, gamma=scale, kernel=rbf ..................................\n",
      "[CV] ...... C=2.0, gamma=scale, kernel=rbf, score=0.821, total=   0.0s\n",
      "[CV] C=2.0, gamma=scale, kernel=rbf ..................................\n",
      "[CV] ...... C=2.0, gamma=scale, kernel=rbf, score=0.831, total=   0.0s\n",
      "[CV] C=2.0, gamma=scale, kernel=rbf ..................................\n",
      "[CV] ...... C=2.0, gamma=scale, kernel=rbf, score=0.837, total=   0.0s\n",
      "[CV] C=2.0, gamma=scale, kernel=rbf ..................................\n",
      "[CV] ...... C=2.0, gamma=scale, kernel=rbf, score=0.798, total=   0.0s\n",
      "[CV] C=2.0, gamma=scale, kernel=rbf ..................................\n",
      "[CV] ...... C=2.0, gamma=scale, kernel=rbf, score=0.843, total=   0.0s\n",
      "[CV] C=2.0, gamma=scale, kernel=sigmoid ..............................\n",
      "[CV] .. C=2.0, gamma=scale, kernel=sigmoid, score=0.682, total=   0.0s\n",
      "[CV] C=2.0, gamma=scale, kernel=sigmoid ..............................\n",
      "[CV] .. C=2.0, gamma=scale, kernel=sigmoid, score=0.674, total=   0.0s\n",
      "[CV] C=2.0, gamma=scale, kernel=sigmoid ..............................\n",
      "[CV] .. C=2.0, gamma=scale, kernel=sigmoid, score=0.719, total=   0.0s\n",
      "[CV] C=2.0, gamma=scale, kernel=sigmoid ..............................\n",
      "[CV] .. C=2.0, gamma=scale, kernel=sigmoid, score=0.708, total=   0.0s\n",
      "[CV] C=2.0, gamma=scale, kernel=sigmoid ..............................\n",
      "[CV] .. C=2.0, gamma=scale, kernel=sigmoid, score=0.669, total=   0.0s\n",
      "[CV] C=2.0, gamma=auto, kernel=linear ................................\n",
      "[CV] .... C=2.0, gamma=auto, kernel=linear, score=0.804, total=   0.0s\n",
      "[CV] C=2.0, gamma=auto, kernel=linear ................................\n",
      "[CV] .... C=2.0, gamma=auto, kernel=linear, score=0.803, total=   0.0s\n",
      "[CV] C=2.0, gamma=auto, kernel=linear ................................\n",
      "[CV] .... C=2.0, gamma=auto, kernel=linear, score=0.787, total=   0.0s\n",
      "[CV] C=2.0, gamma=auto, kernel=linear ................................\n",
      "[CV] .... C=2.0, gamma=auto, kernel=linear, score=0.753, total=   0.0s\n",
      "[CV] C=2.0, gamma=auto, kernel=linear ................................\n",
      "[CV] .... C=2.0, gamma=auto, kernel=linear, score=0.787, total=   0.0s\n",
      "[CV] C=2.0, gamma=auto, kernel=poly ..................................\n",
      "[CV] ...... C=2.0, gamma=auto, kernel=poly, score=0.760, total=   0.0s\n",
      "[CV] C=2.0, gamma=auto, kernel=poly ..................................\n",
      "[CV] ...... C=2.0, gamma=auto, kernel=poly, score=0.826, total=   0.0s\n",
      "[CV] C=2.0, gamma=auto, kernel=poly ..................................\n",
      "[CV] ...... C=2.0, gamma=auto, kernel=poly, score=0.826, total=   0.0s\n",
      "[CV] C=2.0, gamma=auto, kernel=poly ..................................\n",
      "[CV] ...... C=2.0, gamma=auto, kernel=poly, score=0.781, total=   0.0s\n",
      "[CV] C=2.0, gamma=auto, kernel=poly ..................................\n",
      "[CV] ...... C=2.0, gamma=auto, kernel=poly, score=0.837, total=   0.0s\n",
      "[CV] C=2.0, gamma=auto, kernel=rbf ...................................\n",
      "[CV] ....... C=2.0, gamma=auto, kernel=rbf, score=0.821, total=   0.0s\n",
      "[CV] C=2.0, gamma=auto, kernel=rbf ...................................\n",
      "[CV] ....... C=2.0, gamma=auto, kernel=rbf, score=0.831, total=   0.0s\n",
      "[CV] C=2.0, gamma=auto, kernel=rbf ...................................\n",
      "[CV] ....... C=2.0, gamma=auto, kernel=rbf, score=0.848, total=   0.0s\n",
      "[CV] C=2.0, gamma=auto, kernel=rbf ...................................\n",
      "[CV] ....... C=2.0, gamma=auto, kernel=rbf, score=0.792, total=   0.0s\n",
      "[CV] C=2.0, gamma=auto, kernel=rbf ...................................\n",
      "[CV] ....... C=2.0, gamma=auto, kernel=rbf, score=0.837, total=   0.0s\n",
      "[CV] C=2.0, gamma=auto, kernel=sigmoid ...............................\n",
      "[CV] ... C=2.0, gamma=auto, kernel=sigmoid, score=0.676, total=   0.0s\n",
      "[CV] C=2.0, gamma=auto, kernel=sigmoid ...............................\n",
      "[CV] ... C=2.0, gamma=auto, kernel=sigmoid, score=0.730, total=   0.0s\n",
      "[CV] C=2.0, gamma=auto, kernel=sigmoid ...............................\n",
      "[CV] ... C=2.0, gamma=auto, kernel=sigmoid, score=0.753, total=   0.0s\n",
      "[CV] C=2.0, gamma=auto, kernel=sigmoid ...............................\n",
      "[CV] ... C=2.0, gamma=auto, kernel=sigmoid, score=0.708, total=   0.0s\n",
      "[CV] C=2.0, gamma=auto, kernel=sigmoid ...............................\n",
      "[CV] ... C=2.0, gamma=auto, kernel=sigmoid, score=0.708, total=   0.0s\n",
      "[CV] C=3.0, gamma=scale, kernel=linear ...............................\n",
      "[CV] ... C=3.0, gamma=scale, kernel=linear, score=0.804, total=   0.0s\n",
      "[CV] C=3.0, gamma=scale, kernel=linear ...............................\n",
      "[CV] ... C=3.0, gamma=scale, kernel=linear, score=0.803, total=   0.0s\n",
      "[CV] C=3.0, gamma=scale, kernel=linear ...............................\n",
      "[CV] ... C=3.0, gamma=scale, kernel=linear, score=0.787, total=   0.0s\n",
      "[CV] C=3.0, gamma=scale, kernel=linear ...............................\n",
      "[CV] ... C=3.0, gamma=scale, kernel=linear, score=0.753, total=   0.0s\n",
      "[CV] C=3.0, gamma=scale, kernel=linear ...............................\n",
      "[CV] ... C=3.0, gamma=scale, kernel=linear, score=0.787, total=   0.0s\n",
      "[CV] C=3.0, gamma=scale, kernel=poly .................................\n",
      "[CV] ..... C=3.0, gamma=scale, kernel=poly, score=0.810, total=   0.0s\n",
      "[CV] C=3.0, gamma=scale, kernel=poly .................................\n",
      "[CV] ..... C=3.0, gamma=scale, kernel=poly, score=0.820, total=   0.0s\n",
      "[CV] C=3.0, gamma=scale, kernel=poly .................................\n",
      "[CV] ..... C=3.0, gamma=scale, kernel=poly, score=0.843, total=   0.0s\n",
      "[CV] C=3.0, gamma=scale, kernel=poly .................................\n",
      "[CV] ..... C=3.0, gamma=scale, kernel=poly, score=0.787, total=   0.0s\n",
      "[CV] C=3.0, gamma=scale, kernel=poly .................................\n",
      "[CV] ..... C=3.0, gamma=scale, kernel=poly, score=0.837, total=   0.0s\n",
      "[CV] C=3.0, gamma=scale, kernel=rbf ..................................\n",
      "[CV] ...... C=3.0, gamma=scale, kernel=rbf, score=0.816, total=   0.0s\n",
      "[CV] C=3.0, gamma=scale, kernel=rbf ..................................\n",
      "[CV] ...... C=3.0, gamma=scale, kernel=rbf, score=0.826, total=   0.0s\n",
      "[CV] C=3.0, gamma=scale, kernel=rbf ..................................\n",
      "[CV] ...... C=3.0, gamma=scale, kernel=rbf, score=0.826, total=   0.0s\n",
      "[CV] C=3.0, gamma=scale, kernel=rbf ..................................\n",
      "[CV] ...... C=3.0, gamma=scale, kernel=rbf, score=0.792, total=   0.0s\n",
      "[CV] C=3.0, gamma=scale, kernel=rbf ..................................\n",
      "[CV] ...... C=3.0, gamma=scale, kernel=rbf, score=0.843, total=   0.0s\n",
      "[CV] C=3.0, gamma=scale, kernel=sigmoid ..............................\n",
      "[CV] .. C=3.0, gamma=scale, kernel=sigmoid, score=0.665, total=   0.0s\n",
      "[CV] C=3.0, gamma=scale, kernel=sigmoid ..............................\n",
      "[CV] .. C=3.0, gamma=scale, kernel=sigmoid, score=0.674, total=   0.0s\n",
      "[CV] C=3.0, gamma=scale, kernel=sigmoid ..............................\n",
      "[CV] .. C=3.0, gamma=scale, kernel=sigmoid, score=0.719, total=   0.0s\n",
      "[CV] C=3.0, gamma=scale, kernel=sigmoid ..............................\n",
      "[CV] .. C=3.0, gamma=scale, kernel=sigmoid, score=0.708, total=   0.0s\n",
      "[CV] C=3.0, gamma=scale, kernel=sigmoid ..............................\n",
      "[CV] .. C=3.0, gamma=scale, kernel=sigmoid, score=0.663, total=   0.0s\n",
      "[CV] C=3.0, gamma=auto, kernel=linear ................................\n",
      "[CV] .... C=3.0, gamma=auto, kernel=linear, score=0.804, total=   0.0s\n",
      "[CV] C=3.0, gamma=auto, kernel=linear ................................\n",
      "[CV] .... C=3.0, gamma=auto, kernel=linear, score=0.803, total=   0.0s\n",
      "[CV] C=3.0, gamma=auto, kernel=linear ................................\n",
      "[CV] .... C=3.0, gamma=auto, kernel=linear, score=0.787, total=   0.0s\n",
      "[CV] C=3.0, gamma=auto, kernel=linear ................................\n",
      "[CV] .... C=3.0, gamma=auto, kernel=linear, score=0.753, total=   0.0s\n",
      "[CV] C=3.0, gamma=auto, kernel=linear ................................\n",
      "[CV] .... C=3.0, gamma=auto, kernel=linear, score=0.787, total=   0.0s\n",
      "[CV] C=3.0, gamma=auto, kernel=poly ..................................\n",
      "[CV] ...... C=3.0, gamma=auto, kernel=poly, score=0.777, total=   0.0s\n",
      "[CV] C=3.0, gamma=auto, kernel=poly ..................................\n",
      "[CV] ...... C=3.0, gamma=auto, kernel=poly, score=0.820, total=   0.0s\n",
      "[CV] C=3.0, gamma=auto, kernel=poly ..................................\n",
      "[CV] ...... C=3.0, gamma=auto, kernel=poly, score=0.843, total=   0.0s\n",
      "[CV] C=3.0, gamma=auto, kernel=poly ..................................\n",
      "[CV] ...... C=3.0, gamma=auto, kernel=poly, score=0.781, total=   0.0s\n",
      "[CV] C=3.0, gamma=auto, kernel=poly ..................................\n",
      "[CV] ...... C=3.0, gamma=auto, kernel=poly, score=0.843, total=   0.0s\n",
      "[CV] C=3.0, gamma=auto, kernel=rbf ...................................\n",
      "[CV] ....... C=3.0, gamma=auto, kernel=rbf, score=0.821, total=   0.0s\n",
      "[CV] C=3.0, gamma=auto, kernel=rbf ...................................\n",
      "[CV] ....... C=3.0, gamma=auto, kernel=rbf, score=0.831, total=   0.0s\n",
      "[CV] C=3.0, gamma=auto, kernel=rbf ...................................\n",
      "[CV] ....... C=3.0, gamma=auto, kernel=rbf, score=0.848, total=   0.0s\n",
      "[CV] C=3.0, gamma=auto, kernel=rbf ...................................\n",
      "[CV] ....... C=3.0, gamma=auto, kernel=rbf, score=0.792, total=   0.0s\n",
      "[CV] C=3.0, gamma=auto, kernel=rbf ...................................\n",
      "[CV] ....... C=3.0, gamma=auto, kernel=rbf, score=0.837, total=   0.0s\n",
      "[CV] C=3.0, gamma=auto, kernel=sigmoid ...............................\n",
      "[CV] ... C=3.0, gamma=auto, kernel=sigmoid, score=0.631, total=   0.0s\n",
      "[CV] C=3.0, gamma=auto, kernel=sigmoid ...............................\n",
      "[CV] ... C=3.0, gamma=auto, kernel=sigmoid, score=0.730, total=   0.0s\n",
      "[CV] C=3.0, gamma=auto, kernel=sigmoid ...............................\n",
      "[CV] ... C=3.0, gamma=auto, kernel=sigmoid, score=0.730, total=   0.0s\n",
      "[CV] C=3.0, gamma=auto, kernel=sigmoid ...............................\n",
      "[CV] ... C=3.0, gamma=auto, kernel=sigmoid, score=0.702, total=   0.0s\n",
      "[CV] C=3.0, gamma=auto, kernel=sigmoid ...............................\n",
      "[CV] ... C=3.0, gamma=auto, kernel=sigmoid, score=0.697, total=   0.0s\n"
     ]
    },
    {
     "name": "stderr",
     "output_type": "stream",
     "text": [
      "[Parallel(n_jobs=1)]: Done 160 out of 160 | elapsed:    2.6s finished\n"
     ]
    },
    {
     "data": {
      "text/plain": [
       "GridSearchCV(cv=5, estimator=SVC(),\n",
       "             param_grid=[{'C': [0.5, 1.0, 2.0, 3.0], 'gamma': ['scale', 'auto'],\n",
       "                          'kernel': ['linear', 'poly', 'rbf', 'sigmoid']}],\n",
       "             verbose=3)"
      ]
     },
     "execution_count": 42,
     "metadata": {},
     "output_type": "execute_result"
    }
   ],
   "source": [
    "grid_search.fit(X_train, y_train)"
   ]
  },
  {
   "cell_type": "code",
   "execution_count": 43,
   "id": "69075706",
   "metadata": {
    "execution": {
     "iopub.execute_input": "2021-10-05T16:05:16.592081Z",
     "iopub.status.busy": "2021-10-05T16:05:16.591305Z",
     "iopub.status.idle": "2021-10-05T16:05:16.594984Z",
     "shell.execute_reply": "2021-10-05T16:05:16.595503Z",
     "shell.execute_reply.started": "2021-10-05T16:04:35.702265Z"
    },
    "papermill": {
     "duration": 0.0764,
     "end_time": "2021-10-05T16:05:16.595693",
     "exception": false,
     "start_time": "2021-10-05T16:05:16.519293",
     "status": "completed"
    },
    "tags": []
   },
   "outputs": [
    {
     "data": {
      "text/plain": [
       "0.8260435628648548"
      ]
     },
     "execution_count": 43,
     "metadata": {},
     "output_type": "execute_result"
    }
   ],
   "source": [
    "grid_search.best_score_"
   ]
  },
  {
   "cell_type": "code",
   "execution_count": 44,
   "id": "b7c109bf",
   "metadata": {
    "execution": {
     "iopub.execute_input": "2021-10-05T16:05:16.737150Z",
     "iopub.status.busy": "2021-10-05T16:05:16.736093Z",
     "iopub.status.idle": "2021-10-05T16:05:16.740524Z",
     "shell.execute_reply": "2021-10-05T16:05:16.739985Z",
     "shell.execute_reply.started": "2021-10-05T16:04:35.711023Z"
    },
    "papermill": {
     "duration": 0.077223,
     "end_time": "2021-10-05T16:05:16.740693",
     "exception": false,
     "start_time": "2021-10-05T16:05:16.663470",
     "status": "completed"
    },
    "tags": []
   },
   "outputs": [
    {
     "data": {
      "text/plain": [
       "{'C': 1.0, 'gamma': 'scale', 'kernel': 'rbf'}"
      ]
     },
     "execution_count": 44,
     "metadata": {},
     "output_type": "execute_result"
    }
   ],
   "source": [
    "grid_search.best_params_"
   ]
  },
  {
   "cell_type": "code",
   "execution_count": 45,
   "id": "ddf7c3e8",
   "metadata": {
    "execution": {
     "iopub.execute_input": "2021-10-05T16:05:16.883998Z",
     "iopub.status.busy": "2021-10-05T16:05:16.883229Z",
     "iopub.status.idle": "2021-10-05T16:05:16.885776Z",
     "shell.execute_reply": "2021-10-05T16:05:16.885187Z",
     "shell.execute_reply.started": "2021-10-05T16:04:35.724431Z"
    },
    "papermill": {
     "duration": 0.076108,
     "end_time": "2021-10-05T16:05:16.885920",
     "exception": false,
     "start_time": "2021-10-05T16:05:16.809812",
     "status": "completed"
    },
    "tags": []
   },
   "outputs": [],
   "source": [
    "final_model = grid_search.best_estimator_"
   ]
  },
  {
   "cell_type": "code",
   "execution_count": 46,
   "id": "9fca3e8f",
   "metadata": {
    "execution": {
     "iopub.execute_input": "2021-10-05T16:05:17.024337Z",
     "iopub.status.busy": "2021-10-05T16:05:17.023691Z",
     "iopub.status.idle": "2021-10-05T16:05:17.073438Z",
     "shell.execute_reply": "2021-10-05T16:05:17.072854Z",
     "shell.execute_reply.started": "2021-10-05T16:04:35.732432Z"
    },
    "papermill": {
     "duration": 0.120386,
     "end_time": "2021-10-05T16:05:17.073600",
     "exception": false,
     "start_time": "2021-10-05T16:05:16.953214",
     "status": "completed"
    },
    "tags": []
   },
   "outputs": [],
   "source": [
    "y_train_pred = cross_val_predict(final_model, X_train, y_train, cv=3)"
   ]
  },
  {
   "cell_type": "code",
   "execution_count": 47,
   "id": "a36af39f",
   "metadata": {
    "execution": {
     "iopub.execute_input": "2021-10-05T16:05:17.215195Z",
     "iopub.status.busy": "2021-10-05T16:05:17.214448Z",
     "iopub.status.idle": "2021-10-05T16:05:17.218603Z",
     "shell.execute_reply": "2021-10-05T16:05:17.219081Z",
     "shell.execute_reply.started": "2021-10-05T16:04:35.789194Z"
    },
    "papermill": {
     "duration": 0.077274,
     "end_time": "2021-10-05T16:05:17.219262",
     "exception": false,
     "start_time": "2021-10-05T16:05:17.141988",
     "status": "completed"
    },
    "tags": []
   },
   "outputs": [],
   "source": [
    "conf_mx = confusion_matrix(y_train, y_train_pred)"
   ]
  },
  {
   "cell_type": "code",
   "execution_count": 48,
   "id": "4986c38e",
   "metadata": {
    "execution": {
     "iopub.execute_input": "2021-10-05T16:05:17.359334Z",
     "iopub.status.busy": "2021-10-05T16:05:17.358626Z",
     "iopub.status.idle": "2021-10-05T16:05:17.583206Z",
     "shell.execute_reply": "2021-10-05T16:05:17.584115Z",
     "shell.execute_reply.started": "2021-10-05T16:04:35.799925Z"
    },
    "papermill": {
     "duration": 0.297153,
     "end_time": "2021-10-05T16:05:17.584460",
     "exception": false,
     "start_time": "2021-10-05T16:05:17.287307",
     "status": "completed"
    },
    "tags": []
   },
   "outputs": [
    {
     "data": {
      "text/plain": [
       "<matplotlib.image.AxesImage at 0x7f465f812950>"
      ]
     },
     "execution_count": 48,
     "metadata": {},
     "output_type": "execute_result"
    },
    {
     "data": {
      "image/png": "[encoded data removed]",
      "text/plain": [
       "<Figure size 288x288 with 1 Axes>"
      ]
     },
     "metadata": {
      "needs_background": "light"
     },
     "output_type": "display_data"
    }
   ],
   "source": [
    "plt.matshow(conf_mx, cmap=plt.cm.gray)"
   ]
  },
  {
   "cell_type": "code",
   "execution_count": 49,
   "id": "d9557d06",
   "metadata": {
    "execution": {
     "iopub.execute_input": "2021-10-05T16:05:17.761815Z",
     "iopub.status.busy": "2021-10-05T16:05:17.761077Z",
     "iopub.status.idle": "2021-10-05T16:05:17.776916Z",
     "shell.execute_reply": "2021-10-05T16:05:17.777468Z",
     "shell.execute_reply.started": "2021-10-05T16:04:36.014802Z"
    },
    "papermill": {
     "duration": 0.088367,
     "end_time": "2021-10-05T16:05:17.777669",
     "exception": false,
     "start_time": "2021-10-05T16:05:17.689302",
     "status": "completed"
    },
    "tags": []
   },
   "outputs": [],
   "source": [
    "X_test = full_pipeline.fit_transform(test_df)"
   ]
  },
  {
   "cell_type": "code",
   "execution_count": 50,
   "id": "d32d771f",
   "metadata": {
    "execution": {
     "iopub.execute_input": "2021-10-05T16:05:17.919124Z",
     "iopub.status.busy": "2021-10-05T16:05:17.918429Z",
     "iopub.status.idle": "2021-10-05T16:05:17.927882Z",
     "shell.execute_reply": "2021-10-05T16:05:17.928429Z",
     "shell.execute_reply.started": "2021-10-05T16:04:36.045927Z"
    },
    "papermill": {
     "duration": 0.082281,
     "end_time": "2021-10-05T16:05:17.928631",
     "exception": false,
     "start_time": "2021-10-05T16:05:17.846350",
     "status": "completed"
    },
    "tags": []
   },
   "outputs": [],
   "source": [
    "final_predictions = final_model.predict(X_test)"
   ]
  },
  {
   "cell_type": "code",
   "execution_count": 51,
   "id": "2d101e2e",
   "metadata": {
    "execution": {
     "iopub.execute_input": "2021-10-05T16:05:18.069099Z",
     "iopub.status.busy": "2021-10-05T16:05:18.068462Z",
     "iopub.status.idle": "2021-10-05T16:05:18.080074Z",
     "shell.execute_reply": "2021-10-05T16:05:18.079310Z",
     "shell.execute_reply.started": "2021-10-05T16:04:36.066957Z"
    },
    "papermill": {
     "duration": 0.082774,
     "end_time": "2021-10-05T16:05:18.080274",
     "exception": false,
     "start_time": "2021-10-05T16:05:17.997500",
     "status": "completed"
    },
    "tags": []
   },
   "outputs": [
    {
     "name": "stdout",
     "output_type": "stream",
     "text": [
      "Submission was successfully saved!\n"
     ]
    }
   ],
   "source": [
    "output = pd.DataFrame({'PassengerId': test_df.PassengerId, 'Survived': final_predictions})\n",
    "output.to_csv('submission.csv', index=False)\n",
    "print(\"Submission was successfully saved!\")"
   ]
  },
  {
   "cell_type": "code",
   "execution_count": null,
   "id": "f8f44049",
   "metadata": {
    "papermill": {
     "duration": 0.069238,
     "end_time": "2021-10-05T16:05:18.220382",
     "exception": false,
     "start_time": "2021-10-05T16:05:18.151144",
     "status": "completed"
    },
    "tags": []
   },
   "outputs": [],
   "source": []
  }
 ],
 "metadata": {
  "kernelspec": {
   "display_name": "Python 3",
   "language": "python",
   "name": "python3"
  },
  "language_info": {
   "codemirror_mode": {
    "name": "ipython",
    "version": 3
   },
   "file_extension": ".py",
   "mimetype": "text/x-python",
   "name": "python",
   "nbconvert_exporter": "python",
   "pygments_lexer": "ipython3",
   "version": "3.7.10"
  },
  "papermill": {
   "default_parameters": {},
   "duration": 28.940967,
   "end_time": "2021-10-05T16:05:19.847028",
   "environment_variables": {},
   "exception": null,
   "input_path": "__notebook__.ipynb",
   "output_path": "__notebook__.ipynb",
   "parameters": {},
   "start_time": "2021-10-05T16:04:50.906061",
   "version": "2.3.3"
  }
 },
 "nbformat": 4,
 "nbformat_minor": 5
}
